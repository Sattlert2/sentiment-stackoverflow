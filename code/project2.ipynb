{
 "cells": [
  {
   "cell_type": "code",
   "execution_count": 1,
   "metadata": {},
   "outputs": [
    {
     "name": "stderr",
     "output_type": "stream",
     "text": [
      "[nltk_data] Downloading package punkt to\n",
      "[nltk_data]     C:\\Users\\sattl\\AppData\\Roaming\\nltk_data...\n",
      "[nltk_data]   Package punkt is already up-to-date!\n",
      "[nltk_data] Downloading package averaged_perceptron_tagger to\n",
      "[nltk_data]     C:\\Users\\sattl\\AppData\\Roaming\\nltk_data...\n",
      "[nltk_data]   Package averaged_perceptron_tagger is already up-to-\n",
      "[nltk_data]       date!\n",
      "[nltk_data] Downloading package stopwords to\n",
      "[nltk_data]     C:\\Users\\sattl\\AppData\\Roaming\\nltk_data...\n",
      "[nltk_data]   Package stopwords is already up-to-date!\n",
      "[nltk_data] Downloading package wordnet to\n",
      "[nltk_data]     C:\\Users\\sattl\\AppData\\Roaming\\nltk_data...\n",
      "[nltk_data]   Package wordnet is already up-to-date!\n",
      "[nltk_data] Downloading package words to\n",
      "[nltk_data]     C:\\Users\\sattl\\AppData\\Roaming\\nltk_data...\n",
      "[nltk_data]   Package words is already up-to-date!\n"
     ]
    }
   ],
   "source": [
    "import pandas as pd\n",
    "import glob\n",
    "import numpy as np\n",
    "import matplotlib.pyplot as plt\n",
    "from nltk.tokenize import word_tokenize\n",
    "from nltk import pos_tag\n",
    "from nltk.corpus import stopwords\n",
    "from nltk.stem import WordNetLemmatizer\n",
    "from collections import defaultdict\n",
    "from nltk.corpus import wordnet as wn\n",
    "from sklearn.metrics import confusion_matrix\n",
    "from sklearn.metrics import classification_report\n",
    "import cvxpy\n",
    "from cvxpy import *\n",
    "import nltk\n",
    "nltk.download('punkt')\n",
    "nltk.download('averaged_perceptron_tagger')\n",
    "nltk.download('stopwords')\n",
    "nltk.download('wordnet')\n",
    "nltk.download('words')\n",
    "seed = np.random.seed(500)"
   ]
  },
  {
   "cell_type": "markdown",
   "metadata": {},
   "source": [
    "Read in the .csv file pertaining to the dataset: https://zenodo.org/record/2575509#.XodGuIhKiCo from paper doi: 10.5281/zenodo.2575509. We will look at the polarity of posts in stackexchange comments and create two models for prediction: A SVM model and a Naive Bayes model. "
   ]
  },
  {
   "cell_type": "code",
   "execution_count": 2,
   "metadata": {},
   "outputs": [],
   "source": [
    "test_file = 'test1326itemPOLARITY.csv'\n",
    "train_file = 'train3098itemPOLARITY.csv'"
   ]
  },
  {
   "cell_type": "code",
   "execution_count": 3,
   "metadata": {},
   "outputs": [
    {
     "name": "stdout",
     "output_type": "stream",
     "text": [
      "Training Data\n",
      "   id  polarity                                               text\n",
      "0  t1  negative  Vineet, what you are trying to do is a terribl...\n",
      "1  t2  positive                           'Course I do, corrected.\n",
      "2  t3  positive  Excellent, happy to help! If you don't mind, c...\n",
      "3  t6  negative  @talnicolas I'm using it a few dozen times in ...\n",
      "4  t7   neutral  I didn't select an answer because even though ...\n",
      "Testing Data\n",
      "    id  polarity                                               text\n",
      "0   t4  positive  @DrabJay: excellent suggestion! Code changed. :-)\n",
      "1   t5   neutral  Any decent browser should protect against mali...\n",
      "2   t8  negative  I swear - I don't put pseudo code I get told o...\n",
      "3   t9   neutral                              I have attached below\n",
      "4  t13  negative  When I refactor the following line: using Resh...\n"
     ]
    }
   ],
   "source": [
    "df_train = pd.read_csv(train_file, delimiter = ';',names=['id','polarity','text'])\n",
    "df_test = pd.read_csv(test_file, delimiter = ';',names=['id','polarity','text'])\n",
    "firstText = df_train.iloc[0].text\n",
    "print('Training Data')\n",
    "print(df_train.head())\n",
    "print('Testing Data')\n",
    "print(df_test.head())"
   ]
  },
  {
   "cell_type": "markdown",
   "metadata": {},
   "source": [
    "Check the frequency of the three labels: positive, neutral, negative for the training set"
   ]
  },
  {
   "cell_type": "code",
   "execution_count": 35,
   "metadata": {},
   "outputs": [
    {
     "name": "stdout",
     "output_type": "stream",
     "text": [
      "{'neutral': 1186, 'positive': 1069, 'negative': 842}\n",
      "{'neutral': 508, 'positive': 458, 'negative': 360}\n"
     ]
    },
    {
     "data": {
      "text/plain": [
       "<BarContainer object of 3 artists>"
      ]
     },
     "execution_count": 35,
     "metadata": {},
     "output_type": "execute_result"
    },
    {
     "data": {
      "image/png": "[encoded data removed]",
      "text/plain": [
       "<Figure size 432x288 with 1 Axes>"
      ]
     },
     "metadata": {
      "needs_background": "light"
     },
     "output_type": "display_data"
    }
   ],
   "source": [
    "freq = df_train['polarity'].value_counts().to_dict()\n",
    "print(freq)\n",
    "print(df_test['polarity'].value_counts().to_dict())\n",
    "plt.bar(freq.keys(),freq.values())"
   ]
  },
  {
   "cell_type": "markdown",
   "metadata": {},
   "source": [
    "Dataset isn't too imbalanced, with majority in neutral. We will see how SVM(discrimitive) will act versus Naive Bayes(Generative). Before pre-processing, check data for any non-valid entries."
   ]
  },
  {
   "cell_type": "code",
   "execution_count": 5,
   "metadata": {},
   "outputs": [
    {
     "name": "stdout",
     "output_type": "stream",
     "text": [
      "<class 'pandas.core.frame.DataFrame'>\n",
      "RangeIndex: 3097 entries, 0 to 3096\n",
      "Data columns (total 3 columns):\n",
      " #   Column    Non-Null Count  Dtype \n",
      "---  ------    --------------  ----- \n",
      " 0   id        3097 non-null   object\n",
      " 1   polarity  3097 non-null   object\n",
      " 2   text      3097 non-null   object\n",
      "dtypes: object(3)\n",
      "memory usage: 72.7+ KB\n",
      "None\n"
     ]
    }
   ],
   "source": [
    "print(df_train.info())"
   ]
  },
  {
   "cell_type": "markdown",
   "metadata": {},
   "source": [
    "For further pre-processing the following guide is followed: https://medium.com/@bedigunjit/simple-guide-to-text-classification-nlp-using-svm-and-naive-bayes-with-python-421db3a72d34.\n"
   ]
  },
  {
   "cell_type": "code",
   "execution_count": 6,
   "metadata": {},
   "outputs": [],
   "source": [
    "def preprocess(dataframe):\n",
    "    # double check, remove blank rows if any\n",
    "    dataframe['text'].dropna(inplace=True)\n",
    "    \n",
    "    # Change text to lowercase\n",
    "    dataframe['text'] = [entry.lower() for entry in dataframe['text']]\n",
    "    \n",
    "    # Remove non-english words/user names\n",
    "    words = set(nltk.corpus.words.words())\n",
    "    dataframe['text'] = [\" \".join(w for w in nltk.wordpunct_tokenize(entry) if w.lower() in words or not w.isalpha()) for entry in dataframe['text']] \n",
    "    \n",
    "    # Tokenize each entry of the corpus. \n",
    "    dataframe['text'] = [word_tokenize(entry) for entry in dataframe['text']]\n",
    "\n",
    "    # Removing stop words, non-numeric and perform word stemming/lemmenting explained in the guide above.\n",
    "    tag_map = defaultdict(lambda : wn.NOUN)\n",
    "    tag_map['J'] = wn.ADJ\n",
    "    tag_map['V'] = wn.VERB\n",
    "    tag_map['R'] = wn.ADV\n",
    "\n",
    "    for index,entry in enumerate(dataframe['text']):\n",
    "        # Declaring Empty List to store the words that follow the rules for this step\n",
    "        Final_words = []\n",
    "        # Initializing WordNetLemmatizer()\n",
    "        word_Lemmatized = WordNetLemmatizer()\n",
    "        # pos_tag function below will provide the 'tag' i.e if the word is Noun(N) or Verb(V) or something else.\n",
    "        for word, tag in pos_tag(entry):\n",
    "            # Below condition is to check for Stop words and consider only alphabets\n",
    "            if word not in stopwords.words('english') and word.isalpha():\n",
    "                word_Final = word_Lemmatized.lemmatize(word,tag_map[tag[0]])\n",
    "                Final_words.append(word_Final)\n",
    "        # The final processed set of words for each iteration will be stored in 'text'\n",
    "        dataframe.loc[index,'text'] = str(Final_words)\n",
    "    return dataframe"
   ]
  },
  {
   "cell_type": "code",
   "execution_count": 7,
   "metadata": {},
   "outputs": [],
   "source": [
    "df_train = preprocess(df_train)\n",
    "df_test = preprocess(df_test)"
   ]
  },
  {
   "cell_type": "markdown",
   "metadata": {},
   "source": [
    "Print head of train/test dataframe."
   ]
  },
  {
   "cell_type": "code",
   "execution_count": 8,
   "metadata": {},
   "outputs": [
    {
     "name": "stdout",
     "output_type": "stream",
     "text": [
      "Training Data\n",
      "   id  polarity                                               text\n",
      "0  t1  negative  ['try', 'terrible', 'idea', 'ever', 'find', 'e...\n",
      "1  t2  positive                              ['course', 'correct']\n",
      "2  t3  positive  ['excellent', 'happy', 'help', 'mind', 'accept...\n",
      "3  t6  negative  ['dozen', 'time', 'class', 'heavy', 'write', '...\n",
      "4  t7   neutral  ['select', 'answer', 'even', 'though', 'two', ...\n",
      "Testing Data\n",
      "    id  polarity                                               text\n",
      "0   t4  positive                ['excellent', 'suggestion', 'code']\n",
      "1   t5   neutral  ['decent', 'browser', 'protect', 'malicious', ...\n",
      "2   t8  negative  ['swear', 'put', 'pseudo', 'code', 'get', 'tel...\n",
      "3   t9   neutral                                         ['attach']\n",
      "4  t13  negative  ['following', 'line', 'use', 'object', 'get', ...\n"
     ]
    }
   ],
   "source": [
    "print('Training Data')\n",
    "print(df_train.head())\n",
    "print('Testing Data')\n",
    "print(df_test.head())"
   ]
  },
  {
   "cell_type": "markdown",
   "metadata": {},
   "source": [
    "Show the original first text and pre-processed text as comparison."
   ]
  },
  {
   "cell_type": "code",
   "execution_count": 9,
   "metadata": {},
   "outputs": [
    {
     "name": "stdout",
     "output_type": "stream",
     "text": [
      "Original Sentence\n",
      "Vineet, what you are trying to do is a terrible idea! If you ever find yourself having to engineer something as fundamental as that, take a step back and work out what else does it! I don't really believe in the whole spoon fed SO thing, but what mtwebster says is on the right track!\n",
      "\n",
      "Preprocessed Sentence\n",
      "['try', 'terrible', 'idea', 'ever', 'find', 'engineer', 'something', 'fundamental', 'take', 'step', 'back', 'work', 'else', 'really', 'believe', 'whole', 'spoon', 'feed', 'thing', 'right', 'track']\n"
     ]
    }
   ],
   "source": [
    "print('Original Sentence')\n",
    "print(firstText)\n",
    "print('')\n",
    "print('Preprocessed Sentence')\n",
    "print(df_train.iloc[0].text)"
   ]
  },
  {
   "cell_type": "markdown",
   "metadata": {},
   "source": [
    "You can see some words being lemmatized including fed -> feed to create more general cases. Usernames are removed and words are all lowercased. The next step is to encode the target variable."
   ]
  },
  {
   "cell_type": "code",
   "execution_count": 10,
   "metadata": {},
   "outputs": [],
   "source": [
    "from sklearn.preprocessing import LabelEncoder\n",
    "Encoder = LabelEncoder()\n",
    "train_labels = Encoder.fit_transform(df_train['polarity'])\n",
    "test_labels = Encoder.fit_transform(df_test['polarity'])"
   ]
  },
  {
   "cell_type": "markdown",
   "metadata": {},
   "source": [
    "Below shows the new labels encoded with numerical values.\n",
    "Negative = 0\n",
    "Positive = 2\n",
    "Neutral = 1"
   ]
  },
  {
   "cell_type": "code",
   "execution_count": 11,
   "metadata": {},
   "outputs": [
    {
     "name": "stdout",
     "output_type": "stream",
     "text": [
      "[0 2 2 0 1]\n",
      "0    negative\n",
      "1    positive\n",
      "2    positive\n",
      "3    negative\n",
      "4     neutral\n",
      "Name: polarity, dtype: object\n"
     ]
    }
   ],
   "source": [
    "print(train_labels[0:5])\n",
    "print(df_train.iloc[0:5].polarity)"
   ]
  },
  {
   "cell_type": "markdown",
   "metadata": {},
   "source": [
    "The next step is word vectorization. The most popular vectorization method is called Term Frequency-Inverse Document Frequency (TF-IDF). The largest con of this word is not being able to caputre the semantics of sentence structure. We will cap the max unique words to 5000. Wikipedia link for TF-IDF: https://en.wikipedia.org/wiki/Tf%E2%80%93idf"
   ]
  },
  {
   "cell_type": "code",
   "execution_count": 12,
   "metadata": {},
   "outputs": [],
   "source": [
    "from sklearn.feature_extraction.text import TfidfVectorizer\n",
    "Tfidf_vect = TfidfVectorizer(max_features=5000)\n",
    "Tfidf_vect.fit(pd.concat([df_train,df_test]).text)\n",
    "\n",
    "Train_X_Tfidf = Tfidf_vect.transform(df_train.text)\n",
    "Test_X_Tfidf = Tfidf_vect.transform(df_test.text)"
   ]
  },
  {
   "cell_type": "markdown",
   "metadata": {},
   "source": [
    "Below shows the vocabulary learned from both the train/test set."
   ]
  },
  {
   "cell_type": "code",
   "execution_count": 13,
   "metadata": {},
   "outputs": [
    {
     "name": "stdout",
     "output_type": "stream",
     "text": [
      "{'try': 3596, 'terrible': 3458, 'idea': 1637, 'ever': 1163, 'find': 1300, 'engineer': 1118, 'something': 3209, 'fundamental': 1412, 'take': 3422, 'step': 3290, 'back': 302, 'work': 3853, 'else': 1092, 'really': 2768, 'believe': 359, 'whole': 3819, 'spoon': 3256, 'feed': 1277, 'thing': 3483, 'right': 2939, 'track': 3547, 'course': 787, 'correct': 772, 'excellent': 1182, 'happy': 1538, 'help': 1563, 'mind': 2143, 'accept': 14, 'answer': 180, 'dozen': 1022, 'time': 3514, 'class': 592, 'heavy': 1556, 'write': 3875, 'easy': 1064, 'read': 2756, 'painful': 2408, 'sorry': 3218, 'think': 3485, 'question': 2707, 'subjective': 3335, 'maybe': 2087, 'someone': 3208, 'move': 2200, 'select': 3044, 'even': 1160, 'though': 3492, 'two': 3609, 'neither': 2245, 'complete': 669, 'tomcat': 3529, 'confusion': 715, 'bliss': 398, 'state': 3279, 'single': 3147, 'every': 1164, 'item': 1843, 'application': 205, 'en': 1105, 'library': 1942, 'system': 3414, 'may': 2085, 'way': 3788, 'globally': 1458, 'communicate': 651, 'thank': 3471, 'wow': 3869, 'look': 2004, 'corona': 769, 'intuitive': 1812, 'build': 474, 'thanks': 3473, 'tip': 3519, 'seem': 3041, 'proprietary': 2664, 'push': 2692, 'add': 53, 'want': 3774, 'commit': 648, 'lock': 1990, 'unless': 3665, 'gem': 1432, 'check': 567, 'since': 3145, 'use': 3698, 'bundler': 483, 'tool': 3533, 'across': 40, 'precision': 2583, 'enforce': 1115, 'extremely': 1240, 'desirable': 919, 'great': 1484, 'sure': 3379, 'case': 529, 'worried': 3861, 'like': 1951, 'good': 1467, 'control': 753, 'behavior': 355, 'derive': 912, 'thus': 3503, 'influence': 1725, 'performance': 2476, 'opinion': 2341, 'usage': 3697, 'different': 951, 'kind': 1871, 'strong': 3317, 'weak': 3789, 'soft': 3200, 'phantom': 2491, 'also': 136, 'remember': 2856, 'optimization': 2348, 'root': 2954, 'evil': 1172, 'especially': 1150, 'see': 3038, 'possible': 2563, 'hate': 1547, 'run': 2970, 'query': 2704, 'extra': 1238, 'get': 1445, 'record': 2791, 'count': 782, 'pager': 2404, 'say': 2998, 'simply': 3141, 'mean': 2088, 'common': 649, 'link': 1963, 'example': 1179, 'yes': 3887, 'tricky': 3580, 'pain': 2407, 'neck': 2239, 'matter': 2082, 'advise': 78, 'provide': 2671, 'user': 3703, 'far': 1264, 'without': 3844, 'quick': 2711, 'hear': 1554, 'touch': 3543, 'ask': 240, 'afraid': 85, 'much': 2203, 'would': 3868, 'appropriate': 211, 'sad': 2973, 'backwards': 307, 'progress': 2651, 'update': 3690, 'yesterday': 3888, 'process': 2637, 'make': 2037, 'properly': 2661, 'number': 2292, 'show': 3113, 'ide': 1636, 'box': 435, 'horrible': 1604, 'radio': 2727, 'button': 490, 'consider': 722, 'assume': 256, 'ken': 1866, 'likely': 1953, 'problem': 2633, 'content': 743, 'type': 3610, 'header': 1552, 'part': 2436, 'normal': 2273, 'post': 2565, 'file': 1292, 'go': 1463, 'instead': 1765, 'longer': 2002, 'form': 1366, 'set': 3075, 'explicit': 1219, 'note': 2278, 'one': 2326, 'side': 3120, 'effect': 1074, 'stream': 3311, 'entire': 1130, 'package': 2397, 'zip': 3895, 'memory': 2106, 'suggest': 3365, 'cause': 539, 'code': 618, 'crash': 793, 'success': 3354, 'away': 292, 'solution': 3203, 'know': 1879, 'upgrade': 3691, 'external': 1236, 'edit': 1070, 'convenient': 755, 'wan': 3773, 'able': 3, 'resource': 2900, 'load': 1978, 'faster': 1270, 'need': 2240, 'worry': 3864, 'finish': 1306, 'site': 3154, 'silly': 3131, 'bug': 470, 'remain': 2853, 'tu': 3597, 'horizontal': 1601, 'position': 2559, 'page': 2403, 'slight': 3176, 'shift': 3100, 'nothing': 2279, 'cry': 813, 'dont': 1012, 'cha': 554, 'keep': 1865, 'list': 1969, 'ax': 298, 'delete': 888, 'swap': 3391, 'full': 1405, 'least': 1922, 'solve': 3204, 'ugly': 3618, 'loop': 2005, 'construct': 735, 'give': 1453, 'lastly': 1900, 'style': 3328, 'data': 850, 'project': 2654, 'define': 879, 'somewhere': 3213, 'horribly': 1605, 'guess': 1503, 'secret': 3034, 'chrome': 579, 'dev': 934, 'profile': 2645, 'stop': 3299, 'bottom': 429, 'screen': 3018, 'triangle': 3578, 'next': 2254, 'click': 604, 'flame': 1319, 'chart': 563, 'mode': 2167, 'zoom': 3896, 'pan': 2413, 'digest': 956, 'long': 2001, 'exactly': 1176, 'incredibly': 1698, 'useful': 3700, 'repeat': 2867, 'cycle': 832, 'upon': 3692, 'information': 1727, 'teeth': 3442, 'function': 1408, 'signature': 3126, 'return': 2920, 'opaquely': 2331, 'reflect': 2814, 'compile': 666, 'machine': 2025, 'program': 2647, 'well': 3801, 'main': 2031, 'exit': 1204, 'thread': 3496, 'join': 1857, 'first': 1310, 'raw': 2749, 'learn': 1920, 'boost': 420, 'little': 1975, 'hassle': 1546, 'facial': 1246, 'recognition': 2784, 'auto': 280, 'browser': 462, 'front': 1402, 'malicious': 2041, 'bout': 433, 'could': 781, 'convert': 759, 'basically': 328, 'variable': 3720, 'marine': 2062, 'output': 2373, 'value': 3718, 'ascii': 238, 'web': 3792, 'outside': 2375, 'difference': 950, 'clearer': 600, 'simple': 3136, 'dash': 848, 'character': 561, 'representation': 2880, 'encode': 1109, 'recommend': 2787, 'absolute': 7, 'minimum': 2147, 'developer': 939, 'absolutely': 8, 'positively': 2561, 'must': 2210, 'python': 2695, 'suppose': 3377, 'interface': 1794, 'let': 1935, 'automatically': 282, 'put': 2693, 'member': 2104, 'base': 324, 'sub': 3332, 'enough': 1125, 'noise': 2268, 'render': 2863, 'frame': 1383, 'awfully': 296, 'slow': 3181, 'around': 229, 'path': 2453, 'publish': 2681, 'buffer': 469, 'wrong': 3877, 'graphic': 1480, 'chip': 573, 'paradise': 2419, 'submit': 3338, 'separate': 3062, 'response': 2904, 'winner': 3835, 'device': 941, 'image': 1659, 'multiple': 2204, 'people': 2468, 'task': 3429, 'management': 2045, 'spread': 3258, 'macro': 2026, 'quicken': 2712, 'ticket': 3506, 'forward': 1375, 'sample': 2984, 'entropy': 1133, 'model': 2168, 'probability': 2631, 'distribution': 995, 'cross': 807, 'likelihood': 1952, 'real': 2764, 'event': 1161, 'everything': 1167, 'test': 3463, 'purely': 2689, 'non': 2269, 'random': 2735, 'sequence': 3065, 'actually': 48, 'happen': 1534, 'hack': 1515, 'place': 2516, 'particular': 2439, 'bad': 308, 'default': 875, 'point': 2537, 'error': 1148, 'come': 641, 'line': 1959, 'version': 3735, 'comment': 646, 'routine': 2962, 'inside': 1751, 'transaction': 3556, 'block': 402, 'typically': 3613, 'rollback': 2951, 'internal': 1799, 'unfortunately': 3655, 'informative': 1728, 'specifically': 3236, 'safe': 2977, 'overall': 2377, 'anything': 187, 'transactionally': 3557, 'functionality': 1410, 'already': 135, 'imagine': 1661, 'later': 1904, 'limit': 1956, 'love': 2014, 'advance': 72, 'probably': 2632, 'do': 1001, 'understand': 3645, 'correctly': 773, 'exception': 1185, 'chapter': 559, 'topic': 3536, 'search': 3028, 'handle': 1529, 'snippet': 3193, 'fixed': 1317, 'create': 797, 'call': 504, 'refresh': 2817, 'alert': 114, 'ready': 2763, 'display': 988, 'replace': 2869, 'fine': 1303, 'escape': 1149, 'flexible': 1330, 'local': 1983, 'copy': 765, 'ie': 1651, 'arrow': 233, 'angry': 168, 'face': 1244, 'text': 3467, 'entry': 1134, 'font': 1349, 'apache': 191, 'implementation': 1671, 'namely': 2219, 'desire': 920, 'horrific': 1607, 'slash': 3167, 'key': 1868, 'order': 2353, 'accordingly': 29, 'level': 1937, 'merely': 2116, 'sort': 3219, 'include': 1691, 'save': 2993, 'context': 744, 'three': 3498, 'previous': 2610, 'another': 179, 'net': 2247, 'framework': 1384, 'intermediate': 1798, 'language': 1895, 'view': 3743, 'implement': 1670, 'hope': 1596, 'column': 637, 'table': 3416, 'group': 1496, 'second': 3031, 'field': 1287, 'counter': 783, 'integer': 1773, 'index': 1706, 'execute': 1198, 'execution': 1199, 'reason': 2770, 'hit': 1585, 'resume': 2915, 'continue': 747, 'curious': 823, 'annoying': 176, 'setting': 3078, 'anywhere': 190, 'prevent': 2608, 'break': 447, 'avoid': 289, 'figure': 1291, 'target': 3428, 'indication': 1710, 'vista': 3753, 'alternative': 143, 'safari': 2976, 'shrink': 3116, 'talk': 3424, 'although': 145, 'force': 1358, 'left': 1926, 'margin': 2061, 'indent': 1701, 'drag': 1023, 'welcome': 3800, 'nice': 2257, 'refer': 2810, 'pass': 2444, 'trouble': 3586, 'valid': 3713, 'specify': 3239, 'fetch': 1283, 'graph': 1479, 'store': 3303, 'lot': 2009, 'provider': 2672, 'name': 2218, 'canvas': 516, 'glow': 1459, 'series': 3068, 'increase': 1697, 'change': 557, 'styling': 3329, 'blur': 407, 'size': 3157, 'outline': 2370, 'phone': 2494, 'algorithm': 115, 'transparent': 3567, 'blob': 400, 'master': 2074, 'contour': 749, 'color': 634, 'array': 231, 'result': 2913, 'calculate': 499, 'practice': 2577, 'disable': 970, 'method': 2124, 'confused': 714, 'design': 917, 'precise': 2580, 'mark': 2063, 'sometimes': 3211, 'dangerous': 842, 'throw': 3501, 'option': 2350, 'hurt': 1631, 'remove': 2861, 'choose': 577, 'receive': 2777, 'helpful': 1565, 'duplicate': 1049, 'large': 1896, 'row': 2965, 'truncate': 3593, 'wonder': 3846, 'similar': 3133, 'insert': 1750, 'anyway': 188, 'yeah': 3882, 'private': 2628, 'impressive': 1682, 'express': 1227, 'original': 2360, 'pattern': 2457, 'firstly': 1311, 'forget': 1363, 'beginning': 353, 'last': 1899, 'input': 1744, 'secondly': 3033, 'still': 3296, 'careful': 523, 'judge': 1860, 'cool': 763, 'suggestion': 3366, 'luck': 2019, 'yet': 3889, 'string': 3315, 'redundant': 2808, 'rid': 2936, 'easily': 1063, 'enter': 1128, 'directly': 967, 'late': 1901, 'log': 1993, 'folder': 1345, 'date': 851, 'actual': 47, 'nicely': 2258, 'switch': 3399, 'awesome': 293, 'totally': 3542, 'oh': 2323, 'pointless': 2539, 'echo': 1066, 'section': 3035, 'host': 1612, 'terribly': 3459, 'embarrass': 1095, 'fiddle': 1286, 'relate': 2839, 'layout': 1912, 'versus': 3736, 'fix': 1316, 'issue': 1842, 'visual': 3754, 'studio': 3324, 'installer': 1761, 'completion': 671, 'period': 2478, 'cursor': 827, 'unsigned': 3683, 'self': 3049, 'party': 2442, 'support': 3376, 'official': 2318, 'setup': 3079, 'editor': 1072, 'many': 2057, 'train': 3554, 'neural': 2249, 'network': 2248, 'picture': 2504, 'detect': 929, 'rather': 2746, 'camera': 506, 'anyone': 186, 'pointer': 2538, 'team': 3432, 'exchange': 1189, 'server': 3072, 'ad': 49, 'either': 1083, 'super': 3372, 'whenever': 3809, 'nant': 2223, 'speed': 3241, 'asp': 241, 'shed': 3096, 'light': 1949, 'recently': 2780, 'discover': 979, 'magic': 2027, 'extension': 1231, 'syntax': 3412, 'however': 1619, 'tell': 3444, 'decent': 862, 'industry': 1718, 'sooner': 3216, 'meet': 2100, 'martin': 2070, 'glad': 1454, 'introduce': 1809, 'mechanical': 2095, 'sympathy': 3405, 'reading': 2762, 'definitely': 881, 'achieve': 36, 'deal': 857, 'shorthand': 3108, 'new': 2251, 'scala': 3000, 'usually': 3707, 'eclipse': 1067, 'sic': 3119, 'command': 645, 'short': 3106, 'element': 1088, 'top': 3535, 'apply': 206, 'elsewhere': 1093, 'basic': 327, 'statement': 3281, 'ecstatic': 1068, 'bonus': 415, 'insight': 1752, 'start': 3276, 'notification': 2282, 'background': 304, 'foreground': 1359, 'intent': 1781, 'whether': 3814, 'catch': 536, 'preform': 2593, 'spell': 3242, 'title': 3522, 'internally': 1800, 'always': 147, 'follow': 1347, 'within': 3843, 'liquid': 1967, 'template': 3447, 'obviously': 2307, 'substitution': 3348, 'brace': 439, 'gross': 1494, 'advice': 76, 'asset': 248, 'storage': 3302, 'thats': 3474, 'fear': 1273, 'perform': 2475, 'hash': 1545, 'dig': 955, 'compression': 684, 'devastating': 936, 'twice': 3606, 'automatic': 281, 'vulnerable': 3765, 'injection': 1740, 'immediately': 1663, 'plan': 2519, 'live': 1976, 'sortable': 3220, 'exist': 1202, 'enjoy': 1122, 'fun': 1407, 'legitimate': 1931, 'perhaps': 2477, 'skip': 3165, 'logic': 1996, 'awful': 295, 'approach': 210, 'alphabet': 133, 'alternate': 140, 'match': 2076, 'equal': 1140, 'concept': 693, 'general': 1434, 'along': 130, 'hah': 1521, 'demonstrate': 898, 'displayed': 989, 'nope': 2272, 'gosh': 1470, 'expand': 1205, 'true': 3590, 'plug': 2531, 'friend': 1394, 'colin': 622, 'separator': 3064, 'comma': 644, 'third': 3487, 'fourth': 1379, 'excruciatingly': 1196, 'big': 374, 'per': 2469, 'operate': 2336, 'important': 1675, 'grow': 1497, 'thousand': 3494, 'million': 2139, 'misread': 2155, 'please': 2526, 'global': 1457, 'press': 2603, 'arbitrary': 216, 'jump': 1861, 'cut': 831, 'superfluous': 3374, 'hang': 1533, 'pare': 2428, 'eliminate': 1091, 'abuse': 11, 'fast': 1269, 'thought': 3493, 'trim': 3583, 'access': 18, 'available': 286, 'similarity': 3134, 'various': 3724, 'reduction': 2807, 'explorer': 1223, 'interactivity': 1788, 'choke': 576, 'wondering': 3848, 'satisfy': 2992, 'bounty': 432, 'ideally': 1639, 'honest': 1591, 'might': 2131, 'entail': 1127, 'fairly': 1254, 'relative': 2844, 'terminal': 3453, 'directory': 968, 'otherwise': 2363, 'mercurial': 2113, 'never': 2250, 'git': 1452, 'drop': 1037, 'procedure': 2636, 'onto': 2327, 'nullable': 2291, 'declare': 868, 'besides': 367, 'manually': 2054, 'partial': 2437, 'seriously': 3070, 'compatibility': 662, 'stay': 3286, 'zero': 3894, 'dude': 1042, 'leave': 1923, 'stack': 3265, 'trace': 3545, 'turn': 3600, 'pretty': 2606, 'small': 3183, 'tweak': 3603, 'almost': 128, 'prior': 2624, 'selection': 3045, 'visually': 3757, 'successfully': 3356, 'object': 2297, 'normally': 2275, 'except': 1184, 'height': 1559, 'width': 3826, 'div': 996, 'compute': 686, 'centered': 545, 'clip': 606, 'hard': 1539, 'specific': 3235, 'elegant': 1087, 'android': 164, 'register': 2826, 'beta': 370, 'alpha': 132, 'testing': 3466, 'production': 2642, 'play': 2522, 'sufficient': 3362, 'opt': 2346, 'via': 3739, 'wait': 3769, 'several': 3081, 'status': 3285, 'propagate': 2659, 'proper': 2660, 'script': 3020, 'stuff': 3325, 'message': 2120, 'often': 2322, 'word': 3851, 'module': 2178, 'shall': 3090, 'tutorial': 3602, 'adit': 61, 'io': 1831, 'following': 1348, 'instance': 1762, 'operator': 2340, 'complex': 672, 'transform': 3558, 'feedback': 1278, 'pleasure': 2527, 'contact': 739, 'establish': 1154, 'helper': 1564, 'unsupported': 3685, 'exclamation': 1193, 'aside': 239, 'central': 547, 'knowledgeable': 1881, 'send': 3055, 'mobile': 2163, 'moment': 2180, 'hello': 1562, 'world': 3860, 'clear': 599, 'bool': 418, 'property': 2662, 'originally': 2361, 'readable': 2758, 'core': 767, 'delegate': 887, 'current': 825, 'purpose': 2691, 'completely': 670, 'prototypical': 2669, 'end': 1114, 'mirror': 2151, 'genius': 1440, 'keyboard': 1869, 'day': 852, 'enclose': 1108, 'bit': 385, 'mess': 2119, 'indeed': 1700, 'strange': 3308, 'recursive': 2800, 'deletion': 889, 'obvious': 2306, 'war': 3775, 'doubt': 1018, 'idiomatic': 1647, 'collection': 629, 'begin': 351, 'lambda': 1889, 'fact': 1247, 'emulate': 1102, 'functional': 1409, 'action': 42, 'bummer': 479, 'incorrect': 1695, 'format': 1368, 'request': 2883, 'open': 2332, 'pop': 2550, 'annoy': 175, 'feel': 1279, 'free': 1387, 'compiler': 667, 'sense': 3056, 'rarely': 2742, 'mostly': 2196, 'useless': 3702, 'development': 940, 'parameter': 2426, 'connection': 718, 'half': 1524, 'security': 3037, 'god': 1465, 'manual': 2053, 'devastate': 935, 'collision': 631, 'contrast': 751, 'secure': 3036, 'less': 1933, 'serious': 3069, 'choice': 575, 'warning': 3781, 'unpredictable': 3675, 'cryptographically': 814, 'generator': 1438, 'window': 3833, 'currently': 826, 'whatever': 3803, 'sun': 3371, 'behaviour': 356, 'best': 368, 'appreciation': 208, 'overflow': 2379, 'document': 1006, 'rename': 2862, 'behind': 358, 'scenario': 3008, 'naming': 2220, 'convention': 756, 'preferably': 2589, 'similarly': 3135, 'scope': 3014, 'address': 59, 'assign': 249, 'invoke': 1827, 'invocation': 1826, 'early': 1056, 'bound': 431, 'fail': 1251, 'hibernate': 1572, 'initialize': 1736, 'hover': 1618, 'trigger': 3582, 'un': 3622, 'quickly': 2714, 'animation': 171, 'blinking': 397, 'damn': 838, 'concentrate': 692, 'clean': 595, 'handling': 1531, 'kill': 1870, 'manage': 2044, 'release': 2848, 'activity': 46, 'soon': 3215, 'allocate': 123, 'fragment': 1381, 'old': 2324, 'aware': 291, 'invalid': 1813, 'optimal': 2347, 'warehouse': 3778, 'require': 2884, 'business': 487, 'dimension': 959, 'granular': 1478, 'hour': 1615, 'calculated': 500, 'measure': 2093, 'analysis': 159, 'magnificent': 2029, 'couple': 786, 'reply': 2873, 'hold': 1587, 'referral': 2812, 'mention': 2110, 'friendly': 1395, 'adaptable': 51, 'hosting': 1613, 'duper': 1048, 'perfect': 2472, 'guide': 1507, 'deployment': 907, 'trivial': 3585, 'container': 741, 'deploy': 906, 'bow': 434, 'nearly': 2235, 'anger': 166, 'generic': 1439, 'sum': 3369, 'navigation': 2233, 'hand': 1528, 'didnt': 948, 'weird': 3797, 'video': 3742, 'mouse': 2199, 'speak': 3232, 'novice': 2285, 'programmer': 2650, 'assembly': 244, 'lame': 1890, 'operand': 2335, 'conflict': 712, 'permission': 2481, 'clue': 614, 'feasible': 1274, 'singleton': 3148, 'getter': 1446, 'receiver': 2778, 'fill': 1294, 'null': 2290, 'cache': 495, 'broadcast': 455, 'port': 2555, 'feature': 1275, 'structure': 3319, 'double': 1016, 'pas': 2443, 'yo': 3891, 'decode': 870, 'standard': 3271, 'native': 2228, 'ordered': 2354, 'client': 605, 'care': 522, 'expect': 1208, 'mum': 2206, 'dad': 834, 'accessible': 20, 'caffeine': 496, 'rage': 2729, 'green': 1487, 'miss': 2156, 'underscore': 3644, 'article': 235, 'unknown': 3664, 'disk': 985, 'quota': 2721, 'destination': 925, 'anyhow': 185, 'selector': 3047, 'dom': 1010, 'abort': 4, 'straightforward': 3307, 'naturally': 2231, 'interesting': 1793, 'head': 1550, 'panel': 2417, 'audio': 274, 'related': 2840, 'advanced': 73, 'mathematician': 2080, 'math': 2079, 'compress': 683, 'beautiful': 341, 'obtain': 2305, 'attached': 267, 'formula': 1370, 'delight': 890, 'redirect': 2803, 'close': 609, 'reader': 2760, 'prototype': 2668, 'insane': 1745, 'ampersand': 155, 'override': 2384, 'transpose': 3569, 'matrix': 2081, 'produce': 2640, 'continuous': 748, 'conjunction': 716, 'severely': 3082, 'additional': 57, 'min': 2141, 'appreciate': 207, 'rob': 2945, 'explain': 1216, 'moss': 2195, 'builder': 475, 'compatible': 663, 'detail': 927, 'theory': 3477, 'codex': 619, 'connect': 717, 'grad': 1474, 'protect': 2665, 'news': 2253, 'calculation': 501, 'year': 3883, 'piece': 2505, 'nest': 2246, 'menu': 2112, 'finally': 1299, 'expression': 1228, 'percent': 2470, 'told': 3528, 'warren': 3782, 'quite': 2719, 'scary': 3006, 'documentation': 1007, 'social': 3197, 'therefore': 3478, 'false': 1257, 'pure': 2688, 'binary': 379, 'huge': 1621, 'inadvertently': 1687, 'lead': 1917, 'extend': 1230, 'beyond': 373, 'wise': 3839, 'safely': 2978, 'space': 3226, 'attribute': 273, 'entirely': 1131, 'accomplish': 26, 'manifest': 2048, 'kernel': 1867, 'tiff': 3509, 'palette': 2412, 'differently': 952, 'additionally': 58, 'clarity': 591, 'unable': 3623, 'grid': 1489, 'hi': 1571, 'inspector': 1757, 'analyze': 161, 'twitter': 3608, 'bootstrap': 422, 'popover': 2551, 'freeze': 1390, 'assess': 247, 'modify': 2177, 'associate': 254, 'appear': 198, 'wish': 3840, 'vote': 3762, 'th': 3470, 'saver': 2994, 'hidden': 1573, 'worrying': 3865, 'backup': 306, 'guy': 1512, 'wit': 3841, 'parenthesis': 2431, 'works': 3859, 'thirdly': 3488, 'compare': 660, 'bar': 320, 'practical': 2575, 'scoop': 3013, 'bind': 380, 'anonymous': 178, 'shadow': 3088, 'affect': 82, 'yep': 3886, 'focusable': 1343, 'amaze': 148, 'accessibility': 19, 'print': 2621, 'art': 234, 'cascade': 528, 'orientation': 2358, 'bounce': 430, 'cumulative': 820, 'combine': 639, 'operation': 2338, 'horrendously': 1603, 'individual': 1715, 'isolation': 1840, 'gut': 1511, 'experience': 1211, 'unload': 3668, 'reload': 2851, 'warm': 3779, 'regard': 2821, 'pleasant': 2525, 'introduction': 1810, 'grateful': 1482, 'perfectly': 2473, 'route': 2961, 'selenium': 3048, 'subclass': 3333, 'indirect': 1713, 'sweetheart': 3395, 'relevant': 2849, 'lesson': 1934, 'lecture': 1924, 'watch': 3784, 'regardless': 2822, 'spend': 3244, 'direct': 964, 'embed': 1096, 'ah': 99, 'subtly': 3350, 'parse': 2433, 'iterable': 1844, 'apart': 192, 'iteration': 1846, 'spending': 3245, 'neatly': 2237, 'pic': 2501, 'sinister': 3149, 'component': 677, 'mutually': 2214, 'exclusive': 1194, 'particularly': 2440, 'efficient': 1079, 'de': 854, 'branching': 443, 'reputation': 2882, 'pragmatic': 2578, 'loving': 2017, 'initial': 1735, 'furthermore': 1416, 'entity': 1132, 'sticky': 3295, 'tag': 3419, 'heap': 1553, 'cluster': 615, 'workbench': 3854, 'extract': 1239, 'schema': 3010, 'allow': 125, 'marshal': 2069, 'poor': 2548, 'job': 1854, 'flat': 1322, 'regional': 2825, 'restart': 2908, 'lea': 1916, 'week': 3793, 'utilize': 3710, 'fly': 1341, 'comprehensive': 682, 'jeff': 1851, 'sign': 3124, 'act': 41, 'abusive': 13, 'ban': 317, 'proxy': 2677, 'tor': 3537, 'determine': 931, 'genuine': 1442, 'muzzle': 2215, 'registration': 2827, 'scaling': 3003, 'impossible': 1678, 'enable': 1106, 'source': 3225, 'suffer': 3360, 'visitor': 3752, 'flow': 1337, 'ga': 1418, 'analytics': 160, 'limited': 1958, 'availability': 285, 'agree': 96, 'essential': 1152, 'meaningful': 2090, 'designer': 918, 'fire': 1308, 'overtly': 2386, 'josh': 1858, 'effective': 1075, 'dying': 1052, 'shine': 3101, 'niche': 2259, 'id': 1635, 'jersey': 1852, 'overview': 2387, 'edition': 1071, 'legacy': 1927, 'somewhat': 3212, 'empty': 1101, 'felt': 1282, 'lose': 2006, 'potion': 2570, 'almighty': 127, 'complement': 668, 'peek': 2463, 'vim': 3745, 'necessary': 2238, 'become': 344, 'evident': 1170, 'poorly': 2549, 'li': 1939, 'hint': 1581, 'scheme': 3011, 'brave': 446, 'outcome': 2366, 'whats': 3805, 'red': 2801, 'gate': 1429, 'assist': 252, 'divide': 999, 'parallel': 2422, 'export': 1224, 'custom': 829, 'querying': 2705, 'engine': 1117, 'cost': 780, 'map': 2058, 'accord': 28, 'balloon': 316, 'tech': 3435, 'beside': 366, 'validation': 3715, 'inefficient': 1719, 'reinstall': 2833, 'tried': 3581, 'incorrectly': 1696, 'found': 1376, 'recreate': 2795, 'cant': 515, 'mac': 2024, 'lion': 1966, 'certain': 550, 'throughout': 3500, 'browse': 461, 'product': 2641, 'rest': 2907, 'sit': 3153, 'install': 1759, 'near': 2234, 'grief': 1490, 'surely': 3380, 'emulator': 1104, 'beautifully': 342, 'accepted': 17, 'rely': 2852, 'flash': 1320, 'wrap': 3870, 'implicit': 1672, 'spawn': 3231, 'repository': 2876, 'disgust': 982, 'explicitly': 1220, 'cast': 530, 'bring': 453, 'equivalent': 1144, 'floating': 1335, 'shell': 3098, 'integration': 1775, 'plain': 2518, 'man': 2043, 'stilly': 3297, 'witch': 3842, 'anchor': 163, 'depth': 910, 'anyways': 189, 'difficult': 953, 'understatement': 3647, 'poster': 2567, 'password': 2448, 'mapper': 2059, 'token': 3527, 'signal': 3125, 'superb': 3373, 'charm': 562, 'bright': 451, 'yellow': 3884, 'swing': 3397, 'draw': 1026, 'circle': 584, 'wholeheartedly': 3820, 'vertical': 3738, 'tree': 3576, 'future': 1417, 'whereby': 3811, 'offer': 2315, 'due': 1043, 'configure': 709, 'rightly': 2940, 'convince': 760, 'brand': 444, 'dapper': 843, 'bare': 321, 'relationship': 2843, 'simpler': 3137, 'icon': 1634, 'lately': 1902, 'scale': 3002, 'archive': 223, 'cherry': 570, 'pick': 2502, 'tackle': 3418, 'lie': 1945, 'interpret': 1805, 'quarantine': 2701, 'none': 2270, 'node': 2267, 'terrific': 3460, 'hook': 1594, 'passport': 2447, 'hide': 1574, 'border': 423, 'hacky': 1519, 'guilty': 1508, 'swear': 3392, 'explanation': 1217, 'anybody': 184, 'rake': 2731, 'immune': 1665, 'heinous': 1560, 'iterate': 1845, 'ex': 1174, 'pipe': 2510, 'chance': 556, 'blank': 391, 'slim': 3178, 'child': 571, 'bundle': 482, 'horrid': 1606, 'low': 2018, 'quote': 2722, 'ought': 2365, 'marc': 2060, 'sir': 3152, 'sexy': 3083, 'range': 2739, 'prefix': 2592, 'stick': 3294, 'better': 371, 'hugely': 1622, 'race': 2724, 'condition': 704, 'plot': 2529, 'involved': 1830, 'direction': 965, 'retrieve': 2918, 'weather': 3791, 'location': 1988, 'temperature': 3446, 'differ': 949, 'excellently': 1183, 'unclosable': 3633, 'thinking': 3486, 'review': 2928, 'reviewer': 2929, 'anna': 172, 'platform': 2521, 'dell': 894, 'wrapper': 3872, 'life': 1946, 'navigate': 2232, 'blame': 390, 'collapse': 624, 'questionable': 2708, 'rejection': 2836, 'fallback': 1256, 'pull': 2684, 'creation': 798, 'saw': 2996, 'capable': 518, 'gas': 1428, 'jealous': 1850, 'objective': 2298, 'slick': 3172, 'technology': 3439, 'behave': 354, 'poi': 2536, 'office': 2317, 'indexed': 1707, 'essentially': 1153, 'viewer': 3744, 'dashboard': 849, 'login': 1999, 'serve': 3071, 'reset': 2892, 'culprit': 817, 'usable': 3696, 'apple': 202, 'annotation': 174, 'privacy': 2627, 'interested': 1792, 'total': 3541, 'rubbish': 2966, 'dictionary': 946, 'reaction': 2754, 'everyone': 1166, 'rep': 2866, 'classic': 593, 'compilation': 665, 'continuation': 746, 'chain': 555, 'domain': 1011, 'hopeless': 1598, 'regular': 2831, 'fancy': 1262, 'despise': 924, 'miserable': 2152, 'concurrency': 702, 'perspective': 2489, 'configuration': 708, 'amount': 154, 'exact': 1175, 'reservoir': 2891, 'sampling': 2985, 'candidate': 509, 'worth': 3866, 'bookshelf': 417, 'desired': 921, 'bender': 363, 'soul': 3222, 'recommand': 2786, 'plenty': 2528, 'atrocity': 265, 'dynamic': 1053, 'invasive': 1817, 'tail': 3421, 'restore': 2910, 'goal': 1464, 'principle': 2620, 'plane': 2520, 'dial': 945, 'intentionally': 1784, 'visualize': 3756, 'chunk': 580, 'gold': 1466, 'inch': 1689, 'simulator': 3144, 'dependency': 903, 'handler': 1530, 'expose': 1225, 'convolute': 762, 'whose': 3823, 'edge': 1069, 'summary': 3370, 'amazing': 149, 'constructor': 737, 'frightening': 1399, 'got': 1472, 'eat': 1065, 'markdown': 2064, 'session': 3074, 'tomorrow': 3530, 'tune': 3598, 'profiler': 2646, 'interact': 1785, 'exercise': 1200, 'tuning': 3599, 'advisor': 79, 'recompress': 2789, 'virtually': 3747, 'burning': 484, 'letter': 1936, 'investigate': 1823, 'ahead': 101, 'personal': 2487, 'controller': 754, 'advantage': 74, 'cleanup': 598, 'validity': 3716, 'numerous': 2294, 'ignore': 1653, 'exceptional': 1186, 'locate': 1987, 'arent': 225, 'whoever': 3818, 'dispose': 990, 'roll': 2950, 'ouch': 2364, 'lack': 1887, 'sadden': 2974, 'accidentally': 23, 'reporter': 2875, 'illegal': 1656, 'mine': 2144, 'newly': 2252, 'hub': 1620, 'discussion': 980, 'fright': 1396, 'precisely': 2581, 'gap': 1426, 'dotted': 1015, 'final': 1297, 'weapon': 3790, 'hey': 1570, 'virtual': 3746, 'effectively': 1076, 'bet': 369, 'smart': 3184, 'teacher': 3431, 'bless': 395, 'middle': 2129, 'arrangement': 230, 'dock': 1004, 'seemingly': 3042, 'area': 224, 'rejoice': 2837, 'lazy': 1914, 'inherit': 1733, 'regenerate': 2823, 'backspace': 305, 'fall': 1255, 'pile': 2506, 'junk': 1862, 'fluent': 1338, 'unit': 3662, 'promise': 2655, 'wonderful': 3847, 'aye': 300, 'timer': 3515, 'flickering': 1332, 'spiteful': 3250, 'char': 560, 'officially': 2319, 'mainly': 2032, 'crude': 809, 'presentation': 2599, 'category': 537, 'launcher': 1908, 'slowly': 3182, 'student': 3323, 'contain': 740, 'unique': 3659, 'appropriately': 212, 'reference': 2811, 'drive': 1034, 'monotype': 2189, 'depend': 902, 'nancy': 2222, 'chat': 564, 'definition': 882, 'functionally': 1411, 'downside': 1020, 'wrapped': 3871, 'independently': 1705, 'requirement': 2885, 'slop': 3180, 'involve': 1829, 'detection': 930, 'argument': 227, 'share': 3093, 'story': 3304, 'vanilla': 3719, 'cell': 543, 'spring': 3259, 'saving': 2995, 'thankful': 3472, 'fit': 1314, 'accurately': 35, 'rewrite': 2933, 'occur': 2310, 'alternately': 141, 'scan': 3004, 'broken': 458, 'corresponding': 776, 'scattered': 3007, 'generate': 1436, 'scaffold': 2999, 'gant': 1425, 'indirection': 1714, 'patient': 2456, 'primary': 2615, 'thrash': 3495, 'sensible': 3057, 'racket': 2725, 'listen': 1970, 'valuable': 3717, 'pause': 2458, 'independent': 1704, 'split': 3253, 'console': 729, 'develop': 938, 'sublime': 3336, 'doc': 1003, 'benefit': 364, 'applicable': 204, 'pandora': 2415, 'recovery': 2794, 'logger': 1994, 'impending': 1669, 'conversation': 757, 'closed': 610, 'typographical': 3615, 'reserve': 2889, 'ago': 94, 'pi': 2500, 'theoretically': 3476, 'statically': 3283, 'comic': 643, 'sans': 2989, 'soap': 3195, 'together': 3525, 'black': 387, 'panda': 2414, 'thingy': 3484, 'attach': 266, 'sa': 2972, 'explanatory': 1218, 'month': 2190, 'prefer': 2587, 'calendar': 503, 'whatsoever': 3806, 'practically': 2576, 'tired': 3521, 'waste': 3783, 'human': 1623, 'everywhere': 1168, 'harness': 1544, 'counting': 784, 'undefined': 3637, 'clearly': 601, 'contract': 750, 'rare': 2741, 'wherein': 3812, 'equality': 1141, 'semantics': 3052, 'computer': 687, 'alarm': 111, 'pending': 2466, 'predicate': 2585, 'situation': 3155, 'rise': 2943, 'flicker': 1331, 'blend': 393, 'weirdness': 3798, 'stand': 3270, 'liner': 1961, 'tho': 3489, 'easier': 1061, 'static': 3282, 'concern': 695, 'disgraceful': 981, 'deliver': 892, 'certificate': 552, 'clarify': 590, 'remote': 2858, 'possibly': 2564, 'slider': 3174, 'greatly': 1485, 'plus': 2533, 'learning': 1921, 'curve': 828, 'trust': 3595, 'knowledge': 1880, 'eye': 1241, 'hot': 1614, 'preferred': 2591, 'highly': 1579, 'addition': 56, 'policy': 2542, 'executable': 1197, 'distinct': 992, 'unhappy': 3656, 'wherever': 3813, 'piper': 2512, 'tonight': 3532, 'community': 653, 'book': 416, 'migration': 2134, 'migrate': 2133, 'opera': 2334, 'as': 237, 'cabal': 493, 'haddock': 1520, 'latex': 1905, 'ultimately': 3620, 'complicate': 675, 'building': 476, 'average': 288, 'excel': 1181, 'maya': 2086, 'repost': 2877, 'interest': 1791, 'improve': 1684, 'presenter': 2600, 'unluckily': 3669, 'somebody': 3205, 'fantastic': 1263, 'versatile': 3734, 'starting': 3278, 'confirm': 710, 'arc': 217, 'incidentally': 1690, 'problematic': 2634, 'mono': 2188, 'sharp': 3094, 'catalyst': 535, 'nudge': 2288, 'slide': 3173, 'shake': 3089, 'somehow': 3207, 'foundation': 1377, 'subscriber': 3342, 'er': 1145, 'bump': 480, 'account': 30, 'mastermind': 2075, 'attempt': 272, 'whereas': 3810, 'clock': 607, 'accurate': 34, 'onward': 2328, 'unsafe': 3682, 'garbage': 1427, 'collect': 627, 'hazy': 1549, 'timing': 3517, 'picker': 2503, 'capture': 520, 'expensive': 1210, 'thick': 3482, 'churn': 582, 'evidently': 1171, 'budget': 468, 'length': 1932, 'focus': 1342, 'accuracy': 33, 'theme': 3475, 'major': 2036, 'angular': 169, 'affiliation': 83, 'convinced': 761, 'physical': 2498, 'albacore': 112, 'ignorant': 1652, 'international': 1802, 'adjust': 63, 'center': 544, 'tap': 3426, 'cancel': 508, 'translate': 3563, 'visible': 3749, 'rect': 2796, 'authenticate': 275, 'perforce': 2474, 'certainly': 551, 'brant': 445, 'consideration': 725, 'constrain': 733, 'insanely': 1746, 'nobody': 2265, 'modern': 2173, 'ram': 2732, 'aha': 100, 'concrete': 701, 'nexus': 2255, 'explore': 1222, 'decimal': 864, 'avast': 287, 'wont': 3850, 'familiar': 1258, 'ruby': 2967, 'barney': 323, 'powerful': 2574, 'fa': 1242, 'lying': 2023, 'flex': 1328, 'inform': 1726, 'badly': 310, 'sadly': 2975, 'upper': 3693, 'pane': 2416, 'stupid': 3326, 'infer': 1721, 'priceless': 2613, 'doesnt': 1008, 'animate': 170, 'assistance': 253, 'registry': 2828, 'assignment': 251, 'volume': 3760, 'maintenance': 2035, 'validate': 3714, 'stopping': 3301, 'estate': 1155, 'player': 2524, 'pod': 2535, 'colleague': 626, 'straightaway': 3306, 'agent': 89, 'switcher': 3400, 'channel': 558, 'checker': 568, 'rick': 2935, 'tab': 3415, 'indentation': 1702, 'asynchronous': 261, 'cat': 534, 'bunch': 481, 'concatenation': 690, 'caution': 540, 'ensure': 1126, 'administrator': 66, 'diagnosis': 944, 'vary': 3725, 'conscious': 720, 'failure': 1252, 'specification': 3237, 'spec': 3233, 'instructive': 1769, 'tale': 3423, 'report': 2874, 'dimensional': 960, 'reinvent': 2834, 'wheel': 3808, 'approximation': 214, 'kitchen': 1875, 'sink': 3150, 'secondary': 3032, 'tiny': 3518, 'transition': 3561, 'colour': 636, 'shade': 3086, 'grey': 1488, 'happily': 1536, 'blink': 396, 'abhor': 1, 'sliver': 3179, 'overhead': 2380, 'win': 3830, 'history': 1584, 'rebase': 2774, 'merge': 2117, 'holy': 1588, 'batman': 334, 'epsilon': 1139, 'rule': 2969, 'addendum': 55, 'flip': 1333, 'yea': 3881, 'notice': 2280, 'iso': 1839, 'encryption': 1113, 'tapestry': 3427, 'identifier': 1642, 'identify': 1643, 'pro': 2629, 'scream': 3017, 'earth': 1058, 'hell': 1561, 'terminate': 3454, 'fee': 1276, 'viciously': 3741, 'murder': 2207, 'scene': 3009, 'tedious': 3441, 'productive': 2643, 'horror': 1609, 'installation': 1760, 'public': 2680, 'gateway': 1430, 'adapter': 52, 'colon': 633, 'balancer': 314, 'generally': 1435, 'hardware': 1542, 'persistent': 2485, 'rotation': 2956, 'duck': 1041, 'relatively': 2845, 'unordered': 3672, 'paste': 2450, 'lousy': 2013, 'resize': 2895, 'mechanism': 2096, 'reopen': 2865, 'minimal': 2145, 'span': 3228, 'identical': 1640, 'overload': 2382, 'destructor': 926, 'ordinal': 2355, 'asymmetric': 259, 'warn': 3780, 'seek': 3040, 'square': 3261, 'depress': 908, 'reality': 2766, 'anti': 182, 'virus': 3748, 'posting': 2568, 'environment': 1137, 'pizza': 2515, 'philosophy': 2493, 'modeller': 2169, 'fraught': 1386, 'confuse': 713, 'calculator': 502, 'critical': 805, 'accidental': 22, 'invite': 1825, 'white': 3817, 'reach': 2752, 'technical': 3436, 'writing': 3876, 'concise': 698, 'interfere': 1795, 'combination': 638, 'farm': 1265, 'activate': 43, 'honeycomb': 1592, 'frequently': 1391, 'service': 3073, 'spinner': 3247, 'hence': 1566, 'becomes': 345, 'transformation': 3559, 'four': 1378, 'previously': 2611, 'restrict': 2911, 'minus': 2149, 'sax': 2997, 'excessive': 1188, 'markup': 2067, 'assertion': 246, 'modal': 2166, 'routing': 2964, 'le': 1915, 'morning': 2194, 'sidenote': 3122, 'revision': 2930, 'specifier': 3238, 'crazy': 795, 'po': 2534, 'mo': 2162, 'relaunch': 2846, 'launch': 1907, 'shout': 3111, 'monitor': 2186, 'furious': 1415, 'shop': 3105, 'locally': 1986, 'fork': 1365, 'cleaner': 596, 'quotient': 2723, 'apex': 193, 'ownership': 2393, 'beat': 338, 'card': 521, 'lurk': 2022, 'preserve': 2602, 'binding': 381, 'suit': 3367, 'spy': 3260, 'ware': 3777, 'irritating': 1838, 'clever': 602, 'presently': 2601, 'solid': 3202, 'circular': 585, 'linear': 1960, 'gradient': 1475, 'uniformly': 3657, 'experiment': 1212, 'yeoman': 3885, 'grunt': 1500, 'banner': 319, 'represent': 2879, 'messy': 2122, 'personally': 2488, 'randomly': 2737, 'minute': 2150, 'gene': 1433, 'accession': 21, 'identification': 1641, 'selectively': 3046, 'troy': 3589, 'hunt': 1629, 'ill': 1655, 'bin': 378, 'bash': 326, 'analyzer': 162, 'processor': 2638, 'person': 2486, 'delay': 886, 'billing': 376, 'nightmare': 2261, 'till': 3513, 'clause': 594, 'inner': 1742, 'caller': 505, 'organizer': 2357, 'loader': 1980, 'submission': 3337, 'nth': 2287, 'stepped': 3291, 'recipe': 2782, 'crack': 790, 'passing': 2445, 'firebug': 1309, 'board': 408, 'returned': 2921, 'foo': 1350, 'backbone': 303, 'agile': 92, 'freedom': 1388, 'happiness': 1537, 'special': 3234, 'pool': 2547, 'odd': 2311, 'spot': 3257, 'creep': 801, 'slightly': 3177, 'os': 2362, 'micro': 2127, 'priority': 2625, 'queue': 2710, 'round': 2958, 'hop': 1595, 'reverse': 2925, 'aesthetic': 81, 'passive': 2446, 'theres': 3480, 'clarification': 589, 'primitive': 2618, 'sip': 3151, 'blender': 394, 'underline': 3641, 'protocol': 2667, 'outlook': 2372, 'decide': 863, 'omit': 2325, 'sob': 3196, 'ten': 3450, 'alter': 138, 'wince': 3831, 'six': 3156, 'working': 3858, 'mistake': 2158, 'oversight': 2385, 'ridiculous': 2937, 'bake': 311, 'frightfully': 1401, 'company': 657, 'fluid': 1339, 'desperation': 923, 'boy': 438, 'distract': 993, 'encapsulation': 1107, 'testable': 3464, 'sheet': 3097, 'retain': 2916, 'today': 3524, 'hero': 1568, 'criterion': 804, 'bill': 375, 'pace': 2395, 'idle': 1650, 'decrease': 872, 'author': 277, 'fresh': 1392, 'tagged': 3420, 'structured': 3320, 'high': 1576, 'nul': 2289, 'mister': 2159, 'melancholy': 2103, 'horrendous': 1602, 'outdated': 2367, 'lint': 1965, 'splint': 3252, 'unreferenced': 3678, 'hex': 1569, 'simulate': 3142, 'considerable': 723, 'significant': 3127, 'negatively': 2244, 'usability': 3695, 'interactive': 1787, 'reword': 2932, 'logging': 1995, 'stateful': 3280, 'ice': 1632, 'cream': 796, 'sandwich': 2986, 'unreadable': 3677, 'preference': 2590, 'nil': 2262, 'stepping': 3292, 'starter': 3277, 'recent': 2779, 'guidance': 1506, 'ko': 1882, 'knockout': 1878, 'aero': 80, 'oddity': 2312, 'highlight': 1578, 'soda': 3199, 'flag': 1318, 'excruciate': 1195, 'towards': 3544, 'cruel': 810, 'reg': 2820, 'logically': 1998, 'accumulate': 32, 'mature': 2083, 'rotate': 2955, 'term': 3452, 'consistently': 728, 'meaning': 2089, 'assert': 245, 'mocha': 2164, 'utility': 3709, 'randomize': 2736, 'reconnect': 2790, 'forum': 1374, 'programmatically': 2649, 'axis': 299, 'regret': 2830, 'wireless': 3837, 'connectivity': 719, 'meaningless': 2091, 'unanswered': 3626, 'loud': 2011, 'engineering': 1119, 'dare': 844, 'fan': 1261, 'simplified': 3139, 'fist': 1313, 'clone': 608, 'spoke': 3255, 'recommendation': 2788, 'constantly': 731, 'meta': 2123, 'surprisingly': 3384, 'smooth': 3188, 'boxcar': 436, 'streaming': 3312, 'peace': 2462, 'waffle': 3767, 'filter': 1295, 'spare': 3229, 'primarily': 2614, 'screw': 3019, 'recognize': 2785, 'semantic': 3051, 'candle': 510, 'distance': 991, 'alias': 116, 'lancer': 1893, 'branch': 442, 'ultimate': 3619, 'raise': 2730, 'brutally': 463, 'alteration': 139, 'frightful': 1400, 'proposition': 2663, 'archaic': 218, 'impose': 1677, 'prepare': 2596, 'dart': 847, 'naively': 2217, 'radix': 2728, 'infinitely': 1724, 'music': 2209, 'sliding': 3175, 'maximum': 2084, 'scroll': 3021, 'noticeable': 2281, 'ghost': 1447, 'accomplishable': 27, 'ease': 1060, 'guarantee': 1501, 'thorough': 3490, 'handy': 1532, 'star': 3274, 'age': 88, 'song': 3214, 'ground': 1495, 'prune': 2678, 'irrational': 1834, 'belong': 360, 'tie': 3507, 'alive': 119, 'react': 2753, 'drawer': 1028, 'home': 1589, 'sanity': 2988, 'unexpected': 3652, 'serialization': 3067, 'bed': 346, 'quietly': 2717, 'instantly': 1764, 'commercial': 647, 'nine': 2263, 'outer': 2368, 'doable': 1002, 'pathogen': 2454, 'shot': 3110, 'uppermost': 3694, 'oracle': 2352, 'correspond': 775, 'relational': 2842, 'integrity': 1776, 'ideal': 1638, 'expectation': 1209, 'fragmentation': 1382, 'variation': 3722, 'reduce': 2806, 'layer': 1911, 'headache': 1551, 'buy': 491, 'tend': 3451, 'compactness': 655, 'aim': 104, 'sleep': 3168, 'invariant': 1816, 'culture': 818, 'excited': 1191, 'physic': 2497, 'prone': 2658, 'offset': 2320, 'decorator': 871, 'humour': 1624, 'setter': 3077, 'customer': 830, 'easiest': 1062, 'socket': 3198, 'prohibitively': 2653, 'nan': 2221, 'boatload': 410, 'effort': 1081, 'ant': 181, 'material': 2078, 'texture': 3469, 'separately': 3063, 'rough': 2957, 'reliable': 2850, 'alignment': 118, 'opacity': 2329, 'men': 2107, 'penny': 2467, 'interaction': 1786, 'insult': 1771, 'intellect': 1777, 'slice': 3170, 'blue': 406, 'intend': 1778, 'surface': 3381, 'simplify': 3140, 'ar': 215, 'unlikely': 3667, 'relation': 2841, 'import': 1673, 'stopped': 3300, 'azure': 301, 'cloud': 613, 'rant': 2740, 'market': 2065, 'manipulate': 2049, 'parent': 2429, 'authentication': 276, 'messenger': 2121, 'treat': 3574, 'unintentionally': 3658, 'unreachable': 3676, 'dead': 855, 'partially': 2438, 'demo': 897, 'sound': 3223, 'chime': 572, 'flashing': 1321, 'cur': 822, 'dreadful': 1031, 'arithmetic': 228, 'float': 1334, 'rel': 2838, 'drama': 1024, 'johannes': 1856, 'positive': 2560, 'depressing': 909, 'walk': 3771, 'park': 2432, 'oft': 2321, 'accommodate': 25, 'vertex': 3737, 'shader': 3087, 'living': 1977, 'alongside': 131, 'paco': 2399, 'mongoose': 2183, 'dark': 845, 'lunch': 2021, 'reflection': 2815, 'family': 1259, 'willing': 3829, 'terminology': 3456, 'subscribe': 3341, 'admittedly': 69, 'wiring': 3838, 'inspect': 1755, 'mail': 2030, 'mime': 2140, 'shortcoming': 3107, 'maintain': 2033, 'justify': 1863, 'nasty': 2226, 'serial': 3066, 'baud': 335, 'rate': 2745, 'equidistant': 1143, 'inverse': 1819, 'architecture': 221, 'epoch': 1138, 'locker': 1991, 'notify': 2283, 'extent': 1234, 'modification': 2175, 'narrow': 2225, 'slicing': 3171, 'surrogate': 3385, 'pair': 2411, 'price': 2612, 'pay': 2461, 'qualification': 2698, 'bus': 486, 'latency': 1903, 'inheritance': 1734, 'enumerable': 1135, 'steal': 3287, 'journey': 1859, 'integrate': 1774, 'present': 2598, 'accounting': 31, 'label': 1886, 'wire': 3836, 'hose': 1611, 'feeling': 1280, 'sensitive': 3058, 'compact': 654, 'suspect': 3388, 'recoverable': 2793, 'el': 1084, 'larry': 1898, 'bloodshed': 403, 'tester': 3465, 'splitter': 3254, 'conditional': 705, 'wager': 3768, 'heavily': 1555, 'readability': 2757, 'worker': 3857, 'earn': 1057, 'impression': 1681, 'replicate': 2871, 'importantly': 1676, 'wrist': 3874, 'speech': 3240, 'populate': 2553, 'alternatively': 144, 'agreement': 98, 'allowable': 126, 'eventually': 1162, 'variety': 3723, 'college': 630, 'marketable': 2066, 'skill': 3161, 'inventor': 1818, 'coin': 621, 'degree': 885, 'hobby': 1586, 'grieve': 1491, 'negation': 2242, 'brilliant': 452, 'beer': 348, 'hacker': 1516, 'exploit': 1221, 'distribute': 994, 'bloat': 399, 'lover': 2016, 'forth': 1371, 'dog': 1009, 'packet': 2398, 'crap': 792, 'digging': 957, 'cakewalk': 498, 'quad': 2697, 'watermark': 3787, 'inspiration': 1758, 'replacement': 2870, 'fully': 1406, 'enormous': 1124, 'former': 1369, 'cringe': 803, 'legal': 1928, 'cleverly': 603, 'reasonable': 2771, 'corner': 768, 'transparency': 3566, 'authorize': 279, 'strongly': 3318, 'harm': 1543, 'room': 2953, 'traverse': 3572, 'pad': 2400, 'steven': 3293, 'forever': 1362, 'downstream': 1021, 'trailing': 3553, 'air': 105, 'prime': 2616, 'intergrade': 1796, 'inport': 1743, 'primer': 2617, 'recorder': 2792, 'realize': 2767, 'fabulous': 1243, 'patience': 2455, 'flea': 1327, 'suspend': 3389, 'thusly': 3504, 'synchronization': 3408, 'stuck': 3322, 'gallon': 1422, 'trip': 3584, 'gnome': 1461, 'gnu': 1462, 'whee': 3807, 'weight': 3795, 'idiom': 1646, 'drink': 1033, 'typical': 3612, 'nail': 2216, 'hammer': 1526, 'becker': 343, 'purchase': 2687, 'rev': 2923, 'gripe': 1492, 'educational': 1073, 'unasked': 3627, 'corporate': 771, 'meeting': 2101, 'sake': 2980, 'laziness': 1913, 'kirk': 1872, 'thoroughly': 3491, 'revue': 2931, 'gospel': 1471, 'antiquate': 183, 'unmanaged': 3670, 'technically': 3437, 'principal': 2619, 'inverted': 1822, 'periodically': 2479, 'flush': 1340, 'comprehension': 681, 'admit': 68, 'staff': 3266, 'internationalization': 1803, 'ides': 1644, 'persist': 2483, 'trough': 3588, 'confirmation': 711, 'gumbo': 1509, 'ing': 1730, 'annoyingly': 177, 'agony': 95, 'mixed': 2161, 'mix': 2160, 'permit': 2482, 'standardized': 3272, 'apparently': 196, 'caught': 538, 'adobe': 70, 'acrobat': 38, 'finder': 1301, 'introductory': 1811, 'illustrator': 1658, 'painfully': 2409, 'thumbnail': 3502, 'movie': 2202, 'cover': 788, 'efficiently': 1080, 'danger': 841, 'reasonably': 2772, 'twist': 3607, 'minor': 2148, 'programmatic': 2648, 'intermediary': 1797, 'inspection': 1756, 'fortune': 1373, 'numerically': 2293, 'observer': 2304, 'interview': 1808, 'agnostic': 93, 'nock': 2266, 'persistence': 2484, 'favorite': 1272, 'game': 1423, 'ship': 3102, 'water': 3786, 'historical': 1583, 'concurrent': 703, 'pin': 2508, 'refreshing': 2818, 'occasionally': 2309, 'resolution': 2897, 'supervisor': 3375, 'preferable': 2588, 'parallelization': 2423, 'among': 152, 'trade': 3549, 'relax': 2847, 'alone': 129, 'interdependent': 1790, 'subject': 3334, 'actively': 45, 'filing': 1293, 'attacker': 270, 'shove': 3112, 'alen': 113, 'shattering': 3095, 'contribute': 752, 'unfamiliarity': 3653, 'constant': 730, 'possibility': 2562, 'concerned': 696, 'hierarchy': 1575, 'derived': 913, 'ugliness': 3617, 'demand': 896, 'optimize': 2349, 'restful': 2909, 'threshold': 3499, 'happier': 1535, 'stage': 3267, 'disabled': 971, 'added': 54, 'attain': 271, 'commonly': 650, 'argue': 226, 'prompt': 2657, 'adopt': 71, 'consist': 726, 'medium': 2099, 'comparable': 658, 'architectural': 220, 'enhancement': 1121, 'sh': 3084, 'whoop': 3822, 'death': 859, 'ring': 2942, 'past': 2449, 'segment': 3043, 'halfway': 1525, 'kudos': 1884, 'gain': 1419, 'excerpt': 1187, 'finalize': 1298, 'aggregate': 90, 'translation': 3564, 'license': 1943, 'factor': 1248, 'declarative': 867, 'unreliable': 3681, 'broke': 457, 'fair': 1253, 'disappointed': 974, 'irregularly': 1835, 'twenty': 3605, 'paint': 2410, 'appliance': 203, 'aid': 103, 'pun': 2686, 'redrag': 2804, 'tick': 3505, 'qualify': 2699, 'acropolis': 39, 'cab': 492, 'replication': 2872, 'appease': 200, 'mentality': 2109, 'era': 1146, 'owl': 2391, 'enterprise': 1129, 'fu': 1404, 'idiocy': 1645, 'awesomeness': 294, 'renderer': 2864, 'claim': 588, 'stable': 3264, 'respond': 2903, 'inherently': 1732, 'mercy': 2114, 'simulation': 3143, 'movement': 2201, 'paper': 2418, 'buddy': 467, 'subversion': 3352, 'incoming': 1692, 'nat': 2227, 'se': 3023, 'inversion': 1820, 'um': 3621, 'appreciative': 209, 'linker': 1964, 'rand': 2734, 'membership': 2105, 'struggle': 3321, 'potentially': 2569, 'dos': 1013, 'attack': 269, 'temporal': 3448, 'boxen': 437, 'defer': 877, 'vague': 3712, 'ridiculously': 2938, 'fashion': 1268, 'starling': 3275, 'awhile': 297, 'typecast': 3611, 'transport': 3568, 'delivery': 893, 'ether': 1158, 'expert': 1213, 'spite': 3249, 'merlin': 2118, 'church': 581, 'importance': 1674, 'permanent': 2480, 'sell': 3050, 'regularly': 2832, 'hung': 1627, 'internals': 1801, 'mid': 2128, 'variant': 3721, 'discern': 976, 'discernible': 977, 'habit': 1513, 'everybody': 1165, 'napkin': 2224, 'em': 1094, 'mere': 2115, 'singing': 3146, 'dancing': 840, 'fictional': 1285, 'creator': 799, 'equally': 1142, 'viable': 3740, 'alphabetically': 134, 'understanding': 3646, 'trial': 3577, 'lovely': 2015, 'comparison': 661, 'blow': 405, 'reuse': 2922, 'pseudo': 2679, 'seed': 3039, 'invert': 1821, 'di': 942, 'tricksy': 3579, 'busy': 489, 'sufficiently': 3363, 'flaw': 1326, 'trump': 3592, 'reactive': 2755, 'quiet': 2716, 'advisable': 77, 'watching': 3785, 'glut': 1460, 'snobbery': 3194, 'natural': 2230, 'threaded': 3497, 'dip': 963, 'mentor': 2111, 'neat': 2236, 'stylish': 3330, 'boom': 419, 'stupidity': 3327, 'soup': 3224, 'altogether': 146, 'unaccepted': 3625, 'jar': 1849, 'detrimental': 933, 'unpleasant': 3674, 'balance': 313, 'paralysis': 2424, 'moderation': 2172, 'tier': 3508, 'ping': 2509, 'region': 2824, 'avail': 284, 'bud': 466, 'broad': 454, 'instruction': 1768, 'buggy': 473, 'division': 1000, 'skim': 3162, 'operating': 2337, 'facetiously': 1245, 'castle': 532, 'fowler': 1380, 'poke': 2540, 'yahoo': 3880, 'toad': 3523, 'mike': 2135, 'fascinate': 1266, 'posted': 2566, 'body': 413, 'vendor': 3730, 'cheat': 566, 'resolve': 2898, 'billion': 377, 'moderately': 2171, 'agreed': 97, 'randomness': 2738, 'active': 44, 'recurse': 2798, 'uniqueness': 3661, 'evaluation': 1159, 'barely': 322, 'synch': 3407, 'licensed': 1944, 'bother': 427, 'alt': 137, 'suppress': 3378, 'concerning': 697, 'physically': 2499, 'brute': 464, 'typo': 3614, 'suffice': 3361, 'capability': 517, 'fifo': 1288, 'enumerate': 1136, 'fool': 1352, 'observe': 2303, 'constraint': 734, 'association': 255, 'indexing': 1708, 'optional': 2351, 'accidently': 24, 'pen': 2465, 'drawing': 1029, 'foot': 1354, 'funny': 1414, 'succeed': 3353, 'grown': 1498, 'resizer': 2896, 'linguist': 1962, 'impractical': 1679, 'homesite': 1590, 'mock': 2165, 'substitute': 3347, 'disagree': 972, 'lightning': 1950, 'manager': 2046, 'remotely': 2859, 'bear': 337, 'successful': 3355, 'heck': 1557, 'demonstration': 899, 'truly': 3591, 'debate': 860, 'illustrate': 1657, 'analyse': 158, 'boat': 409, 'prove': 2670, 'closely': 611, 'examine': 1178, 'analogous': 156, 'internship': 1804, 'poll': 2543, 'crowd': 808, 'popular': 2552, 'legally': 1929, 'modifier': 2176, 'grab': 1473, 'gist': 1451, 'admire': 67, 'listener': 1971, 'ambiguous': 151, 'preface': 2586, 'certify': 553, 'al': 108, 'administrative': 65, 'finer': 1304, 'grain': 1476, 'considerably': 724, 'reside': 2894, 'sha': 3085, 'salt': 2982, 'worked': 3856, 'power': 2573, 'money': 2182, 'locking': 1992, 'unused': 3688, 'largely': 1897, 'fault': 1271, 'ala': 109, 'approximate': 213, 'tween': 3604, 'spike': 3246, 'realistic': 2765, 'polygon': 2545, 'tight': 3510, 'squiggly': 3263, 'hurricane': 1630, 'cheap': 565, 'suboptimal': 3339, 'confidential': 707, 'presumably': 2605, 'hunch': 1625, 'obey': 2296, 'funky': 1413, 'locator': 1989, 'simplicity': 3138, 'absent': 6, 'compliant': 674, 'hackery': 1517, 'technique': 3438, 'maliciously': 2042, 'repeatedly': 2868, 'ruin': 2968, 'scrum': 3022, 'boot': 421, 'polling': 2544, 'apologize': 194, 'needs': 2241, 'desperate': 922, 'worded': 3852, 'astoundingly': 258, 'outstanding': 2376, 'readd': 2759, 'hire': 1582, 'baseball': 325, 'bat': 331, 'undesirable': 3649, 'massive': 2073, 'impact': 1668, 'append': 201, 'intention': 1782, 'dirty': 969, 'latter': 1906, 'dabble': 833, 'angle': 167, 'crunch': 811, 'overwhelming': 2388, 'deferred': 878, 'stress': 3313, 'deadline': 856, 'surprise': 3382, 'provoke': 2676, 'methodology': 2125, 'immediate': 1662, 'vector': 3726, 'sane': 2987, 'loading': 1981, 'deep': 874, 'exhibit': 1201, 'scare': 3005, 'frustration': 1403, 'duration': 1051, 'preview': 2609, 'meant': 2092, 'ability': 2, 'award': 290, 'multiply': 2205, 'batch': 332, 'printer': 2622, 'wife': 3827, 'formal': 1367, 'unspecified': 3684, 'hefty': 1558, 'pity': 2514, 'opening': 2333, 'operative': 2339, 'ugh': 3616, 'indecent': 1699, 'exposure': 1226, 'crime': 802, 'bathrobe': 333, 'foil': 1344, 'folk': 1346, 'dubious': 1040, 'malice': 2040, 'taste': 3430, 'grammar': 1477, 'sentence': 3060, 'bury': 485, 'paragraph': 2421, 'constituent': 732, 'evidence': 1169, 'amazingly': 150, 'extensive': 1232, 'snapshot': 3190, 'foolproof': 1353, 'reflector': 2816, 'recession': 2781, 'hardly': 1541, 'uncomfortable': 3635, 'remap': 2854, 'dependent': 904, 'tray': 3573, 'preamble': 2579, 'times': 3516, 'promising': 2656, 'broadly': 456, 'strip': 3316, 'school': 3012, 'symmetric': 3403, 'sam': 2983, 'diagnose': 943, 'ran': 2733, 'limitation': 1957, 'manipulator': 2051, 'complicated': 676, 'seme': 3053, 'trunk': 3594, 'conclusion': 700, 'fisher': 1312, 'shuffle': 3117, 'indicator': 1711, 'indicate': 1709, 'corruption': 778, 'beware': 372, 'leap': 1919, 'thereof': 3479, 'authoritative': 278, 'used': 3699, 'fifty': 1289, 'lost': 2008, 'oppose': 2344, 'collaboration': 623, 'natively': 2229, 'idiot': 1649, 'maker': 2038, 'rebuild': 2775, 'refreshingly': 2819, 'interpreter': 1806, 'externally': 1237, 'assigned': 250, 'unpack': 3673, 'lotus': 2010, 'flavour': 1325, 'crystal': 815, 'longevity': 2003, 'outlive': 2371, 'survive': 3387, 'subset': 3345, 'locale': 1984, 'collation': 625, 'inn': 1741, 'bloody': 404, 'hairy': 1523, 'glare': 1455, 'afford': 84, 'guard': 1502, 'shallow': 3091, 'matching': 2077, 'prod': 2639, 'blackberry': 388, 'manufacturer': 2056, 'underlie': 3640, 'luggage': 2020, 'alleviate': 121, 'immutable': 1667, 'notably': 2276, 'bulk': 478, 'parsley': 2435, 'listing': 1972, 'collum': 632, 'bob': 411, 'smith': 3187, 'cheese': 569, 'chocolate': 574, 'milk': 2137, 'manga': 2047, 'unlike': 3666, 'research': 2887, 'bast': 330, 'undoubtedly': 3651, 'drawback': 1027, 'offensive': 2314, 'emit': 1098, 'obscurity': 2300, 'cracker': 791, 'dictum': 947, 'premature': 2594, 'emphasis': 1099, 'efficiency': 1078, 'complexity': 673, 'robust': 2947, 'undergo': 3639, 'fellow': 1281, 'rational': 2748, 'suite': 3368, 'administration': 64, 'directive': 966, 'horse': 1610, 'atrociously': 264, 'wondrous': 3849, 'extensively': 1233, 'flexibility': 1329, 'subtype': 3351, 'progressive': 2652, 'lance': 1892, 'nix': 2264, 'lawsuit': 1909, 'reasoning': 2773, 'rear': 2769, 'wrapping': 3873, 'unrelated': 3679, 'casting': 531, 'surround': 3386, 'fade': 1249, 'kiss': 1873, 'alan': 110, 'derivative': 911, 'monkey': 2187, 'frankly': 1385, 'ocarina': 2308, 'incorporate': 1694, 'respect': 2901, 'appal': 195, 'girl': 1450, 'bubble': 465, 'castor': 533, 'cup': 821, 'paranoid': 2427, 'missing': 2157, 'flatten': 1323, 'uniquely': 3660, 'synchronize': 3409, 'sync': 3406, 'aspect': 242, 'adequately': 60, 'centric': 549, 'ray': 2750, 'tracer': 3546, 'trap': 3570, 'statistic': 3284, 'conceivable': 691, 'geometry': 1443, 'sent': 3059, 'hopelessly': 1599, 'dive': 997, 'radar': 2726, 'bank': 318, 'con': 688, 'parser': 2434, 'horde': 1600, 'alliance': 122, 'ref': 2809, 'opposite': 2345, 'insightful': 1753, 'finite': 1307, 'expander': 1206, 'insection': 1747, 'stall': 3269, 'foresee': 1361, 'dump': 1046, 'manipulation': 2050, 'concatenate': 689, 'composite': 678, 'sealing': 3025, 'sealed': 3024, 'dot': 1014, 'insurmountable': 1772, 'lamp': 1891, 'exciting': 1192, 'sniffer': 3191, 'origin': 2359, 'continent': 745, 'freely': 1389, 'city': 587, 'country': 785, 'sat': 2991, 'herb': 1567, 'treatment': 3575, 'portion': 2557, 'glass': 1456, 'employee': 1100, 'composition': 679, 'pagination': 2406, 'quasi': 2703, 'elaboration': 1086, 'uncluttered': 3634, 'lily': 1955, 'dynamically': 1054, 'coverage': 789, 'intensely': 1780, 'workbook': 3855, 'acceptable': 15, 'detailed': 928, 'describe': 914, 'growth': 1499, 'gif': 1449, 'lisper': 1968, 'vengeance': 3731, 'mustard': 2211, 'absence': 5, 'syntactical': 3411, 'sugar': 3364, 'goodness': 1468, 'intercept': 1789, 'beanstalk': 336, 'pablo': 2394, 'archival': 222, 'strategy': 3310, 'prematurely': 2595, 'maintainable': 2034, 'metric': 2126, 'conclude': 699, 'moth': 2197, 'seam': 3026, 'rethink': 2917, 'ya': 3879, 'bios': 383, 'driver': 1036, 'subsonic': 3346, 'dal': 837, 'sarcasm': 2990, 'professional': 2644, 'hilarious': 1580, 'stipulation': 3298, 'copyright': 766, 'tear': 3433, 'significantly': 3128, 'padlock': 2402, 'dupe': 1047, 'beautifier': 340, 'acquire': 37, 'mutable': 2212, 'irrelevant': 1836, 'atomic': 263, 'emulation': 1103, 'absurdly': 10, 'tire': 3520, 'adjacent': 62, 'guest': 1505, 'hamper': 1527, 'scratch': 3016, 'frighten': 1397, 'ai': 102, 'compete': 664, 'compromise': 685, 'inject': 1739, 'portable': 2556, 'pour': 2572, 'brain': 441, 'sometime': 3210, 'pressure': 2604, 'collected': 628, 'induce': 1717, 'afterward': 86, 'reveal': 2924, 'whatnot': 3804, 'married': 2068, 'beginner': 352, 'correctness': 774, 'sparingly': 3230, 'unnecessary': 3671, 'gray': 1483, 'novelty': 2284, 'bobby': 412, 'jack': 1847, 'doctrine': 1005, 'incomplete': 1693, 'bust': 488, 'drill': 1032, 'vehicle': 3728, 'road': 2944, 'upcoming': 3689, 'bing': 382, 'sleeping': 3169, 'cleanly': 597, 'rout': 2960, 'bot': 426, 'scrap': 3015, 'corp': 770, 'wide': 3824, 'yield': 3890, 'spacing': 3227, 'consistent': 727, 'individually': 1716, 'giant': 1448, 'carefully': 524, 'plumb': 2532, 'ce': 542, 'hopefully': 1597, 'rectangle': 2797, 'sole': 3201, 'overly': 2383, 'normalization': 2274, 'leak': 1918, 'consume': 738, 'egress': 1082, 'decline': 869, 'traffic': 3552, 'consecutive': 721, 'sorted': 3221, 'staging': 3268, 'skinning': 3164, 'unbearable': 3628, 'bugginess': 472, 'ironically': 1833, 'plagiarism': 2517, 'guessing': 1504, 'toolbox': 3534, 'overlay': 2381, 'blaze': 392, 'miserably': 2153, 'romance': 2952, 'daylight': 853, 'nonsense': 2271, 'doubly': 1017, 'subtle': 3349, 'coffee': 620, 'wrongly': 3878, 'routinely': 2963, 'baked': 312, 'misfortune': 2154, 'spirit': 3248, 'isometric': 1841, 'tile': 3512, 'visualization': 3755, 'mute': 2213, 'silent': 3129, 'description': 915, 'padding': 2401, 'readily': 2761, 'allergic': 120, 'asterisk': 257, 'manner': 2052, 'opal': 2330, 'finding': 1302, 'stealing': 3288, 'kay': 1864, 'mel': 2102, 'effector': 1077, 'uncle': 3632, 'clustered': 616, 'compound': 680, 'five': 1315, 'friction': 1393, 'running': 2971, 'searching': 3029, 'fascinating': 1267, 'generation': 1437, 'wind': 3832, 'contender': 742, 'exceed': 1180, 'insecure': 1748, 'pack': 2396, 'literally': 1974, 'worrier': 3862, 'encouragement': 1110, 'splash': 3251, 'inference': 1722, 'sketch': 3160, 'behemoth': 357, 'land': 1894, 'whomever': 3821, 'nick': 2260, 'legend': 1930, 'greedy': 1486, 'paginate': 2405, 'showing': 3114, 'vowel': 3764, 'monadic': 2181, 'polymorphic': 2546, 'restrictive': 2912, 'switching': 3401, 'unsure': 3686, 'meditate': 2098, 'tutor': 3601, 'torture': 3539, 'delimiter': 891, 'detest': 932, 'drupal': 1038, 'rigidity': 2941, 'rat': 2744, 'moderate': 2170, 'ton': 3531, 'foreign': 1360, 'sidecar': 3121, 'analogy': 157, 'instructor': 1770, 'disgusting': 983, 'responsible': 2905, 'conceptual': 694, 'reject': 2835, 'expansion': 1207, 'attachment': 268, 'unfortunate': 3654, 'decency': 861, 'capital': 519, 'whichever': 3815, 'undoing': 3650, 'revert': 2927, 'suddenly': 3359, 'stylus': 3331, 'autonomous': 283, 'scalable': 3001, 'mental': 2108, 'lag': 1888, 'pipeline': 2511, 'artificial': 236, 'indigo': 1712, 'outrageously': 2374, 'housekeep': 1617, 'german': 1444, 'excite': 1190, 'playback': 2523, 'wake': 3770, 'bisection': 384, 'assembler': 243, 'pithy': 2513, 'loudness': 2012, 'discount': 978, 'sale': 2981, 'loss': 2007, 'precompile': 2584, 'devastatingly': 937, 'standing': 3273, 'middleman': 2130, 'engage': 1116, 'ted': 3440, 'advert': 75, 'putty': 2694, 'ward': 3776, 'breeze': 448, 'suspicious': 3390, 'built': 477, 'disappear': 973, 'untitled': 3687, 'joe': 1855, 'seth': 3076, 'brook': 459, 'eternity': 1157, 'involuntary': 1828, 'imaginary': 1660, 'hacking': 1518, 'dispatch': 986, 'abbreviation': 0, 'cooler': 764, 'snake': 3189, 'insensitive': 1749, 'beg': 350, 'abstract': 9, 'la': 1885, 'void': 3759, 'silently': 3130, 'pose': 2558, 'redraw': 2805, 'sky': 3166, 'someday': 3206, 'observable': 2301, 'param': 2425, 'carriage': 525, 'construction': 736, 'abuser': 12, 'denominator': 900, 'rodeo': 2949, 'rode': 2948, 'lifetime': 1948, 'weekend': 3794, 'partition': 2441, 'overwrite': 2390, 'colored': 635, 'intersect': 1807, 'ball': 315, 'swipe': 3398, 'finger': 1305, 'moreover': 2193, 'deduce': 873, 'manufacture': 2055, 'dan': 839, 'hair': 1522, 'liking': 1954, 'habitually': 1514, 'filtering': 1296, 'footprint': 1356, 'leverage': 1938, 'shree': 3115, 'verbose': 3732, 'align': 117, 'irritate': 1837, 'crush': 812, 'credit': 800, 'aggressively': 91, 'bracket': 440, 'degrade': 884, 'photograph': 2496, 'notation': 2277, 'annotate': 173, 'conditionally': 706, 'disastrous': 975, 'combining': 640, 'instantaneous': 1763, 'ratio': 2747, 'caveat': 541, 'earthly': 1059, 'bridge': 450, 'usual': 3706, 'jade': 1848, 'extant': 1229, 'troublesome': 3587, 'fetching': 1284, 'bloc': 401, 'fading': 1250, 'zany': 3893, 'darn': 846, 'decipher': 865, 'semi': 3054, 'liberally': 1940, 'murderous': 2208, 'training': 3555, 'infinite': 1723, 'synthesize': 3413, 'depending': 905, 'weighting': 3796, 'higher': 1577, 'cosmetic': 779, 'invisible': 1824, 'localize': 1985, 'volunteer': 3761, 'essence': 1151, 'gather': 1431, 'currency': 824, 'resend': 2888, 'corrupt': 777, 'silver': 3132, 'sizes': 3158, 'conversion': 758, 'temporary': 3449, 'modest': 2174, 'overboard': 2378, 'provocation': 2675, 'brownie': 460, 'prevalence': 2607, 'thesis': 3481, 'footer': 1355, 'resort': 2899, 'shock': 3103, 'bizarre': 386, 'surprising': 3383, 'forbidden': 1357, 'respectively': 2902, 'eager': 1055, 'subordinate': 3340, 'comfortable': 642, 'razor': 2751, 'declaration': 866, 'moniker': 2185, 'galaxy': 1420, 'tablet': 3417, 'peter': 2490, 'unbind': 3629, 'lee': 1925, 'dry': 1039, 'subscript': 3343, 'hungry': 1628, 'reshape': 2893, 'unity': 3663, 'blah': 389, 'ternary': 3457, 'aka': 106, 'appeal': 197, 'mileage': 2136, 'wade': 3766, 'mighty': 2132, 'modulus': 2179, 'offhand': 2316, 'mechanize': 2097, 'quality': 2700, 'defect': 876, 'seamlessly': 3027, 'intended': 1779, 'ember': 1097, 'weka': 3799, 'provision': 2673, 'quiz': 2720, 'masochistic': 2071, 'textual': 3468, 'opponent': 2343, 'basis': 329, 'yuck': 3892, 'diverge': 998, 'disgustingly': 984, 'evolve': 1173, 'invalidate': 1814, 'pythonic': 2696, 'tortured': 3540, 'jet': 1853, 'rounded': 2959, 'terminator': 3455, 'allocation': 124, 'preciseness': 2582, 'responsive': 2906, 'visit': 3751, 'skin': 3163, 'downgrade': 1019, 'masonry': 2072, 'overwhelmingly': 2389, 'negative': 2243, 'din': 961, 'instinct': 1766, 'berry': 365, 'figaro': 1290, 'unaccept': 3624, 'choppy': 578, 'tank': 3425, 'logical': 1997, 'havent': 1548, 'shortly': 3109, 'elaborate': 1085, 'purify': 2690, 'shield': 3099, 'underneath': 3643, 'improperly': 1683, 'rescue': 2886, 'extern': 1235, 'observation': 2302, 'quartz': 2702, 'wild': 3828, 'undeleted': 3638, 'temp': 3445, 'adapt': 50, 'sophisticated': 3217, 'anes': 165, 'crawl': 794, 'regression': 2829, 'strangely': 3309, 'canonical': 514, 'densify': 901, 'population': 2554, 'velocity': 3729, 'kit': 1874, 'famous': 1260, 'skeleton': 3159, 'reversible': 2926, 'cable': 494, 'instruct': 1767, 'graphical': 1481, 'moo': 2191, 'telephony': 3443, 'referrer': 2813, 'immutability': 1666, 'verify': 3733, 'understood': 3648, 'crock': 806, 'driven': 1035, 'liberty': 1941, 'dummy': 1045, 'unreleased': 3680, 'traditionally': 3551, 'publisher': 2682, 'shoemaker': 3104, 'flogger': 1336, 'nowhere': 2286, 'insist': 1754, 'offense': 2313, 'parentheses': 2430, 'gamma': 1424, 'delta': 895, 'safety': 2979, 'utilitarian': 3708, 'eternal': 1156, 'quest': 2706, 'cucumber': 816, 'provisionally': 2674, 'centering': 546, 'inaccurate': 1685, 'visibly': 3750, 'centralize': 548, 'worrisome': 3863, 'independence': 1703, 'remark': 2855, 'polarity': 2541, 'sentiment': 3061, 'encouraging': 1111, 'prism': 2626, 'terrify': 3461, 'percentage': 2471, 'carry': 527, 'transformer': 3560, 'resulting': 2914, 'owner': 2392, 'deserve': 916, 'unchanged': 3631, 'sever': 3080, 'atom': 262, 'architect': 219, 'badge': 309, 'borrow': 425, 'belonging': 361, 'gorgeous': 1469, 'puke': 2683, 'food': 1351, 'beef': 347, 'cake': 497, 'intentional': 1783, 'appearance': 199, 'smarty': 3185, 'procedural': 2635, 'tightly': 3511, 'traditional': 3550, 'squid': 3262, 'iron': 1832, 'inactive': 1686, 'daddy': 835, 'wall': 3772, 'errant': 1147, 'uncommon': 3636, 'incarnate': 1688, 'successive': 3357, 'definitive': 883, 'magically': 2028, 'circumstance': 586, 'beforehand': 349, 'initially': 1737, 'toggle': 3526, 'frightened': 1398, 'ingrained': 1731, 'dispatcher': 987, 'pilot': 2507, 'pound': 2571, 'worthy': 3867, 'quicksilver': 2715, 'elevate': 1089, 'elevation': 1090, 'communication': 652, 'utterly': 3711, 'ilk': 1654, 'spelling': 3243, 'bugger': 471, 'brevity': 449, 'pulsate': 2685, 'duplication': 1050, 'usefulness': 3701, 'horrifically': 1608, 'transmit': 3565, 'comparator': 659, 'cumbersome': 819, 'rich': 2934, 'invariably': 1815, 'printing': 2623, 'exaggerate': 1177, 'tease': 3434, 'hundred': 1626, 'transitional': 3562, 'dread': 1030, 'tortoise': 3538, 'shutdown': 3118, 'suck': 3358, 'questionnaire': 2709, 'uncertain': 3630, 'remind': 2857, 'idiomatically': 1648, 'protection': 2666, 'enlightenment': 1123, 'candy': 511, 'stellar': 3289, 'defined': 880, 'recalculate': 2776, 'removal': 2860, 'difficulty': 954, 'daily': 836, 'opinionated': 2342, 'recursion': 2799, 'quickie': 2713, 'arrive': 232, 'inexpensive': 1720, 'straight': 3305, 'krome': 1883, 'vital': 3758, 'retry': 2919, 'cocoa': 617, 'malformed': 2039, 'bold': 414, 'immensely': 1664, 'nutshell': 2295, 'whack': 3802, 'gallery': 1421, 'house': 1616, 'pavan': 2459, 'robot': 2946, 'carrier': 526, 'phase': 2492, 'mina': 2142, 'grizzly': 1493, 'dean': 858, 'subsequent': 3344, 'can': 507, 'morally': 2192, 'reprehensible': 2878, 'infringement': 1729, 'widely': 3825, 'prepared': 2597, 'literal': 1973, 'synergy': 3410, 'logos': 2000, 'shape': 3092, 'beaten': 339, 'bottleneck': 428, 'dumb': 1044, 'acceptance': 16, 'mongrel': 2184, 'hood': 1593, 'dramatically': 1025, 'enhance': 1120, 'smell': 3186, 'repurpose': 2881, 'bore': 424, 'dinner': 962, 'wizard': 3845, 'snip': 3192, 'swig': 3396, 'outlet': 2369, 'amongst': 153, 'lifesaver': 1947, 'iceberg': 1633, 'existence': 1203, 'whilst': 3816, 'usings': 3705, 'using': 3704, 'paster': 2451, 'redefine': 2802, 'symbol': 3402, 'loca': 1982, 'paradox': 2420, 'sigh': 3123, 'alternating': 142, 'expire': 1215, 'expiration': 1214, 'obligatory': 2299, 'lawyer': 1910, 'companion': 656, 'minimization': 2146, 'quit': 2718, 'impress': 1680, 'miller': 2138, 'cannon': 513, 'reserved': 2890, 'aku': 107, 'voting': 3763, 'closer': 612, 'underlying': 3642, 'ordinary': 2356, 'knocking': 1877, 'knock': 1876, 'forgot': 1364, 'afterwards': 87, 'guru': 1510, 'ben': 362, 'wing': 3834, 'sweet': 3394, 'ni': 2256, 'measurement': 2094, 'plotted': 2530, 'sec': 3030, 'cipher': 583, 'encrypt': 1112, 'symmetrically': 3404, 'asymmetrically': 260, 'recipient': 2783, 'motivate': 2198, 'peer': 2464, 'strict': 3314, 'pax': 2460, 'loaded': 1979, 'prob': 2630, 'raster': 2743, 'vectorial': 3727, 'terseness': 3462, 'flavor': 1324, 'gentle': 1441, 'initiation': 1738, 'sweat': 3393, 'photo': 2495, 'traction': 3548, 'canned': 512, 'dime': 958, 'traveller': 3571, 'harder': 1540, 'patch': 2452, 'fortunately': 1372}\n"
     ]
    }
   ],
   "source": [
    "vocab = Tfidf_vect.vocabulary_\n",
    "print(vocab)"
   ]
  },
  {
   "cell_type": "markdown",
   "metadata": {},
   "source": [
    "Below shows the vectorized data for the training set. ex. (A, B)    C ->   A = Row #, B = Unique Integer # of each word in  row, C = Score calculated by TF-IDF Vectorizer. The C score will only be used in naive bayesian since we incorporate the known statistics."
   ]
  },
  {
   "cell_type": "code",
   "execution_count": 14,
   "metadata": {},
   "outputs": [
    {
     "name": "stdout",
     "output_type": "stream",
     "text": [
      "  (0, 3853)\t0.11724419285063631\n",
      "  (0, 3819)\t0.21347895368401706\n",
      "  (0, 3596)\t0.13222834134572298\n",
      "  (0, 3547)\t0.2533868926016408\n",
      "  (0, 3483)\t0.1826518687913262\n",
      "  (0, 3458)\t0.19394594561964495\n",
      "  (0, 3422)\t0.17964880242877448\n",
      "  (0, 3290)\t0.2509412774772344\n",
      "  (0, 3256)\t0.3297393905268176\n",
      "  (0, 3209)\t0.1679439778713673\n",
      "  (0, 2939)\t0.17788597843127688\n",
      "  (0, 2768)\t0.11938970255633906\n",
      "  (0, 1637)\t0.18304455502364803\n",
      "  (0, 1412)\t0.31437474343962013\n",
      "  (0, 1300)\t0.14357982446029607\n",
      "  (0, 1277)\t0.2822673380371457\n",
      "  (0, 1163)\t0.22350918218205862\n",
      "  (0, 1118)\t0.30347335284362326\n",
      "  (0, 1092)\t0.2077636888508591\n",
      "  (0, 359)\t0.23111337389883624\n",
      "  (0, 302)\t0.1966733009438299\n",
      "  (1, 787)\t0.7325496190689499\n",
      "  (1, 772)\t0.680713637003062\n",
      "  (2, 2143)\t0.5145908152851082\n",
      "  (2, 1563)\t0.31198520357099335\n",
      "  :\t:\n",
      "  (3093, 48)\t0.1781643831076544\n",
      "  (3094, 3887)\t0.3935593732037678\n",
      "  (3094, 3875)\t0.3196671157125581\n",
      "  (3094, 3700)\t0.417251087436555\n",
      "  (3094, 3691)\t0.5163342099608438\n",
      "  (3094, 1275)\t0.44962553180986065\n",
      "  (3094, 1240)\t0.31632475353233896\n",
      "  (3095, 3882)\t0.3612609127913091\n",
      "  (3095, 3483)\t0.27623361271701025\n",
      "  (3095, 3154)\t0.28946653888706386\n",
      "  (3095, 2269)\t0.3380241838100833\n",
      "  (3095, 2176)\t0.45895802311834294\n",
      "  (3095, 1879)\t0.220393893211601\n",
      "  (3095, 1486)\t0.4754447447045962\n",
      "  (3095, 1083)\t0.3314674610001519\n",
      "  (3096, 3514)\t0.19219097902644608\n",
      "  (3096, 3040)\t0.3415237881615824\n",
      "  (3096, 2405)\t0.40624413426332884\n",
      "  (3096, 2124)\t0.22001497880501147\n",
      "  (3096, 2087)\t0.2506772970685776\n",
      "  (3096, 1269)\t0.5400509898039907\n",
      "  (3096, 1160)\t0.21873583409951397\n",
      "  (3096, 730)\t0.33110613930108945\n",
      "  (3096, 210)\t0.26088699074699984\n",
      "  (3096, 179)\t0.23010954083153912\n"
     ]
    }
   ],
   "source": [
    "print(Train_X_Tfidf)"
   ]
  },
  {
   "cell_type": "markdown",
   "metadata": {
    "collapsed": true
   },
   "source": [
    "The next step is incorporating the following algorithms: Naive Bayesian, SVM from sratch. For sanity check we will first use the skit-learn library to compare values. The following is Naive Bayesian:"
   ]
  },
  {
   "cell_type": "code",
   "execution_count": 26,
   "metadata": {
    "scrolled": true
   },
   "outputs": [
    {
     "name": "stdout",
     "output_type": "stream",
     "text": [
      "Confusion Matrix\n",
      "[[163  33   3]\n",
      " [176 395  83]\n",
      " [ 21  80 372]]\n",
      "Naive Bayes Accuracy Score ->  70.13574660633483\n",
      "Report: \n",
      "              precision    recall  f1-score   support\n",
      "\n",
      "           0       0.82      0.45      0.58       360\n",
      "           1       0.60      0.78      0.68       508\n",
      "           2       0.79      0.81      0.80       458\n",
      "\n",
      "    accuracy                           0.70      1326\n",
      "   macro avg       0.74      0.68      0.69      1326\n",
      "weighted avg       0.73      0.70      0.69      1326\n",
      "\n"
     ]
    }
   ],
   "source": [
    "from sklearn import naive_bayes\n",
    "from sklearn.metrics import accuracy_score\n",
    "\n",
    "# fit the training dataset on the NB classifier\n",
    "Naive = naive_bayes.MultinomialNB()\n",
    "Naive.fit(Train_X_Tfidf,train_labels)\n",
    "\n",
    "# predict the labels on validation dataset\n",
    "predictions_NB = Naive.predict(Test_X_Tfidf)\n",
    "\n",
    "# Use accuracy_score function to get the accuracy\n",
    "results = confusion_matrix(predictions_NB,test_labels)\n",
    "print('Confusion Matrix')\n",
    "print(results)\n",
    "print(\"Naive Bayes Accuracy Score -> \",accuracy_score(predictions_NB, test_labels)*100)\n",
    "print('Report: ')\n",
    "print(classification_report(test_labels,predictions_NB))"
   ]
  },
  {
   "cell_type": "markdown",
   "metadata": {},
   "source": [
    "The following is SVM from sklearn:"
   ]
  },
  {
   "cell_type": "code",
   "execution_count": 30,
   "metadata": {},
   "outputs": [
    {
     "name": "stdout",
     "output_type": "stream",
     "text": [
      "Confusion Matrix\n",
      "[[226  40  11]\n",
      " [128 436  79]\n",
      " [  6  32 368]]\n",
      "SVM Accuracy Score ->  77.67722473604827\n",
      "Report: \n",
      "              precision    recall  f1-score   support\n",
      "\n",
      "           0       0.82      0.63      0.71       360\n",
      "           1       0.68      0.86      0.76       508\n",
      "           2       0.91      0.80      0.85       458\n",
      "\n",
      "    accuracy                           0.78      1326\n",
      "   macro avg       0.80      0.76      0.77      1326\n",
      "weighted avg       0.79      0.78      0.78      1326\n",
      "\n"
     ]
    }
   ],
   "source": [
    "from sklearn import svm\n",
    "\n",
    "# Classifier - Algorithm - SVM\n",
    "# fit the training dataset on the classifier\n",
    "SVM = svm.SVC(C=1.0, kernel='linear', degree=3, gamma='auto')\n",
    "SVM.fit(Train_X_Tfidf,train_labels)\n",
    "\n",
    "# predict the labels on validation dataset\n",
    "predictions_SVM = SVM.predict(Test_X_Tfidf)\n",
    "\n",
    "# Use accuracy_score function to get the accuracy\n",
    "results = confusion_matrix(predictions_SVM,test_labels)\n",
    "print('Confusion Matrix')\n",
    "print(results)\n",
    "print(\"SVM Accuracy Score -> \",accuracy_score(predictions_SVM, test_labels)*100)\n",
    "print('Report: ')\n",
    "print(classification_report(test_labels,predictions_SVM))"
   ]
  },
  {
   "cell_type": "markdown",
   "metadata": {},
   "source": [
    "Now that we have a rough estimate of our accurarcy, for comparison, lets start writing algorithms from scratch. \n",
    "We will first start with multinomial naive bayes."
   ]
  },
  {
   "cell_type": "markdown",
   "metadata": {},
   "source": [
    "Naive Bayes: A multinomial Naive Bayesian classifier was implemented, incorporating the statistics gained from TF-IDF scores."
   ]
  },
  {
   "cell_type": "code",
   "execution_count": 17,
   "metadata": {},
   "outputs": [
    {
     "name": "stdout",
     "output_type": "stream",
     "text": [
      "Probability adds up to - > 1.0\n"
     ]
    }
   ],
   "source": [
    "### Training\n",
    "# calculate probability of classes for train data\n",
    "prob_neg = freq['negative']/len(train_labels)\n",
    "prob_neutral = freq['neutral']/len(train_labels)\n",
    "prob_pos = freq['positive']/len(train_labels)\n",
    "\n",
    "print('Probability adds up to - > ' + str(prob_neg+prob_neutral+prob_pos))"
   ]
  },
  {
   "cell_type": "code",
   "execution_count": 18,
   "metadata": {},
   "outputs": [],
   "source": [
    "# build pandas df w/ vectorized features for each class and add col for class\n",
    "df_train_vect = pd.DataFrame(data = Train_X_Tfidf.toarray())\n",
    "df_train_vect.insert(0,'class',train_labels,True)\n",
    "\n",
    "# build df for seperate classes\n",
    "df_neg = df_train_vect.loc[(df_train_vect['class'] == 0)].drop(['class'],axis=1)\n",
    "df_neutral = df_train_vect.loc[(df_train_vect['class'] == 1)].drop(['class'],axis=1)\n",
    "df_pos = df_train_vect.loc[(df_train_vect['class'] == 2)].drop(['class'],axis=1)\n",
    "\n",
    "# total idf for each class\n",
    "ni_neg = df_neg.sum().sum()\n",
    "ni_neutral = df_neutral.sum().sum()\n",
    "ni_pos = df_pos.sum().sum()"
   ]
  },
  {
   "cell_type": "code",
   "execution_count": 19,
   "metadata": {},
   "outputs": [],
   "source": [
    "# create an array to store p(wi,ci) for each word, i.e. 3x3897 -> 3 for 3 classes, 3897 for unique words\n",
    "# eq: P(wi,ci) = (nij + 1)/(ni+|V|)\n",
    "word_prob = np.zeros((3,len(vocab)))\n",
    "\n",
    "# for each word in vocab\n",
    "for w in vocab:\n",
    "    # word idx is vocab[w]\n",
    "    wordIdx = int(vocab[w])\n",
    "    \n",
    "    ## for each class, calculate nij for each word\n",
    "    # p(wi,ci) for negative\n",
    "    word_prob[0,wordIdx] = (df_neg[wordIdx].sum()+1)/(ni_neg)\n",
    "    \n",
    "    # p(wi,ci) for neutral\n",
    "    word_prob[1,wordIdx] = (df_neutral[wordIdx].sum()+1)/(ni_neutral)\n",
    "    \n",
    "    # p(wi,ci) for positive\n",
    "    word_prob[2,wordIdx] = (df_pos[wordIdx].sum()+1)/(ni_pos)"
   ]
  },
  {
   "cell_type": "markdown",
   "metadata": {},
   "source": [
    "What we will use from training to testing: The class probablities (i.e. prob_\"\") and the word postiers (i.e. word_prob)"
   ]
  },
  {
   "cell_type": "code",
   "execution_count": 31,
   "metadata": {},
   "outputs": [],
   "source": [
    "### Testing\n",
    "# prediction labels for testing set\n",
    "prediction_labels = np.zeros(len(test_labels))\n",
    "\n",
    "# build array w/ vectorized features \n",
    "test_vect = Test_X_Tfidf.toarray()\n",
    "\n",
    "# for each entry (or document) calculate argmax of ci in C for P(ci)*product(P(ai|ci)) \n",
    "# where is ai is the word occuring at the ith position in X\n",
    "for i in range(len(test_labels)):\n",
    "    # setence\n",
    "    X = test_vect[i]\n",
    "    \n",
    "    # words in X\n",
    "    words_X = np.asarray(np.nonzero(X))[0]\n",
    "    \n",
    "    ## If no words in text after preprocessing, assume neutral\n",
    "    if len(words_X) == 0:\n",
    "        class_label = 1\n",
    "    else:\n",
    "        # prob of each word matrix, # of words by # of classes(3)\n",
    "        prob_matrix = np.zeros((len(words_X),3))\n",
    "\n",
    "        # compute probablities of each class\n",
    "        for j in range(len(words_X)):\n",
    "            # j corresponds to index of word in sentence\n",
    "            ai = words_X[j]\n",
    "            # negative\n",
    "            prob_matrix[j,0] = word_prob[0,ai]\n",
    "            # neutral\n",
    "            prob_matrix[j,1] = word_prob[1,ai]\n",
    "            # positive\n",
    "            prob_matrix[j,2] = word_prob[2,ai]\n",
    "\n",
    "        # take product of columns\n",
    "        prod = np.prod(prob_matrix,axis=0)\n",
    "\n",
    "        # highest prob associated with given class (neg = 0, neutral = 1, pos = 2). Multipy by p(class)\n",
    "        class_label = np.argmax(prod*np.array([prob_neg,prob_neutral,prob_pos]))\n",
    "    \n",
    "    # store into prediction label\n",
    "    prediction_labels[i] = class_label\n",
    "    \n",
    "    "
   ]
  },
  {
   "cell_type": "markdown",
   "metadata": {},
   "source": [
    "Using more prior information (i.e. the TF-IDF score) we achieved a better accurarcy than sk-learn by ~4%. Below shows the confusion matrix for misclassified results. "
   ]
  },
  {
   "cell_type": "code",
   "execution_count": 32,
   "metadata": {},
   "outputs": [
    {
     "name": "stdout",
     "output_type": "stream",
     "text": [
      "Confusion Matrix\n",
      "[[267  91  15]\n",
      " [ 76 329  45]\n",
      " [ 17  88 398]]\n",
      "Naive Bayes Accuracy Score ->  74.96229260935144\n",
      "Report: \n",
      "              precision    recall  f1-score   support\n",
      "\n",
      "           0       0.72      0.74      0.73       360\n",
      "           1       0.73      0.65      0.69       508\n",
      "           2       0.79      0.87      0.83       458\n",
      "\n",
      "    accuracy                           0.75      1326\n",
      "   macro avg       0.75      0.75      0.75      1326\n",
      "weighted avg       0.75      0.75      0.75      1326\n",
      "\n"
     ]
    }
   ],
   "source": [
    "results = confusion_matrix(prediction_labels,test_labels)\n",
    "print('Confusion Matrix')\n",
    "print(results)\n",
    "print(\"Naive Bayes Accuracy Score -> \",accuracy_score(prediction_labels, test_labels)*100)\n",
    "print('Report: ')\n",
    "print(classification_report(test_labels,prediction_labels))\n"
   ]
  },
  {
   "cell_type": "markdown",
   "metadata": {},
   "source": [
    "SVM: https://en.wikipedia.org/wiki/Support-vector_machine. For classes >2, we will use the 1 vs. 1 method where we will create M(M-1)/2 classifiers and use majority vote for classification. In this case we have M=3, so we will train 3 SVM classifiers: Positive vs Neutral, Neutral vs Negative, Negative vs Positive. If a tie occurs for all 3, neutral will be selected. Followed guide for reference: http://ecomunsing.com/build-your-own-support-vector-machine, we will be incorporating a robust linear discriminator."
   ]
  },
  {
   "cell_type": "code",
   "execution_count": 22,
   "metadata": {},
   "outputs": [],
   "source": [
    "### Training SVM\n",
    "# set1 & set2, pd.to_numpy()\n",
    "def svm_model(set1,set2):\n",
    "    # dimensions of the hyperplane\n",
    "    dim = set1.shape[1]\n",
    "    \n",
    "    # num of points in each class\n",
    "    num1, num2 = set1.shape[0], set2.shape[0]\n",
    "    \n",
    "    # optimization using CvxPy\n",
    "    a = Variable(dim)\n",
    "    b = Variable()\n",
    "    t = Variable()\n",
    "    \n",
    "    obj = Maximize(t)\n",
    "    \n",
    "    set1_contraints = [a.T * set1[i] - b >= t for i in range(num1)]\n",
    "    set2_contraints = [a.T * set2[i] - b <= -t for i in range(num2)]\n",
    "    \n",
    "    contraints = set1_contraints + set2_contraints + [norm(a,2) <= 1]\n",
    "    \n",
    "    prob = Problem(obj, contraints)\n",
    "    prob.solve()\n",
    "    print(\"Problem Status: %s\"%prob.status)\n",
    "    return a.value, b.value, t.value"
   ]
  },
  {
   "cell_type": "code",
   "execution_count": 23,
   "metadata": {},
   "outputs": [
    {
     "name": "stdout",
     "output_type": "stream",
     "text": [
      "Problem Status: optimal\n",
      "Problem Status: optimal\n",
      "Problem Status: optimal\n"
     ]
    }
   ],
   "source": [
    "# PN1 - positive, negative\n",
    "# PN2 - positive, neutral\n",
    "# NN - negative neutral\n",
    "PN1_a, PN1_b, PN1_t = svm_model(df_pos.to_numpy(),df_neg.to_numpy())\n",
    "PN2_a, PN2_b, PN2_t = svm_model(df_pos.to_numpy(),df_neutral.to_numpy())\n",
    "NN_a, NN_b, NN_t = svm_model(df_neg.to_numpy(),df_neutral.to_numpy())"
   ]
  },
  {
   "cell_type": "code",
   "execution_count": 33,
   "metadata": {},
   "outputs": [],
   "source": [
    "### Testing SVM\n",
    "# traverse through each document and classify w/ 3 classifier. Use majority rule.\n",
    "for i in range(test_vect.shape[0]):\n",
    "    doc = test_vect[i]\n",
    "    # vote for each classifer, neutral = 0, negative = 1, positive = 2. Note: This is different from normal to allow np.argmax on\n",
    "    # an even case to select neutral\n",
    "    vote = np.zeros(3)\n",
    "    \n",
    "    # Positive vs Negative\n",
    "    PN1_val = np.sum(PN1_a * doc) - PN1_b - PN1_t\n",
    "\n",
    "    if PN1_val >= 0:\n",
    "        vote[2] += 1\n",
    "    else:\n",
    "        vote[1] += 1 \n",
    "    \n",
    "    # Positive vs Neutral\n",
    "    PN2_val = np.sum(PN2_a * doc) - PN2_b - PN2_t\n",
    "\n",
    "    if PN2_val >= 0:\n",
    "        vote[2] += 1\n",
    "    else:\n",
    "        vote[0] += 1 \n",
    "    \n",
    "    # Negative vs Neutral\n",
    "    NN_val = np.sum(NN_a * doc) - NN_b - NN_t\n",
    "\n",
    "    if NN_val >= 0:\n",
    "        vote[1] += 1\n",
    "    else:\n",
    "        vote[0] += 1\n",
    "        \n",
    "    # Vote for class\n",
    "    class_label = np.argmax(vote)\n",
    "    \n",
    "    # change 0 & 1 to reflect correct labels for neg/neutral\n",
    "    if class_label == 0:\n",
    "        class_label = 1\n",
    "    elif class_label == 1:\n",
    "        class_label = 0\n",
    "    \n",
    "    \n",
    "    prediction_labels[i] = class_label\n",
    "        "
   ]
  },
  {
   "cell_type": "code",
   "execution_count": 34,
   "metadata": {},
   "outputs": [
    {
     "name": "stdout",
     "output_type": "stream",
     "text": [
      "Confusion Matrix\n",
      "[[197 107  31]\n",
      " [133 313 140]\n",
      " [ 30  88 287]]\n",
      "SVM Accuracy Score ->  60.10558069381599\n",
      "Report: \n",
      "              precision    recall  f1-score   support\n",
      "\n",
      "           0       0.59      0.55      0.57       360\n",
      "           1       0.53      0.62      0.57       508\n",
      "           2       0.71      0.63      0.67       458\n",
      "\n",
      "    accuracy                           0.60      1326\n",
      "   macro avg       0.61      0.60      0.60      1326\n",
      "weighted avg       0.61      0.60      0.60      1326\n",
      "\n"
     ]
    }
   ],
   "source": [
    "results = confusion_matrix(prediction_labels,test_labels)\n",
    "print('Confusion Matrix')\n",
    "print(results)\n",
    "print(\"SVM Accuracy Score -> \",accuracy_score(prediction_labels, test_labels)*100)\n",
    "print('Report: ')\n",
    "print(classification_report(test_labels,prediction_labels))"
   ]
  },
  {
   "cell_type": "code",
   "execution_count": null,
   "metadata": {},
   "outputs": [],
   "source": []
  }
 ],
 "metadata": {
  "kernelspec": {
   "display_name": "Python 3",
   "language": "python",
   "name": "python3"
  },
  "language_info": {
   "codemirror_mode": {
    "name": "ipython",
    "version": 3
   },
   "file_extension": ".py",
   "mimetype": "text/x-python",
   "name": "python",
   "nbconvert_exporter": "python",
   "pygments_lexer": "ipython3",
   "version": "3.7.3"
  }
 },
 "nbformat": 4,
 "nbformat_minor": 2
}
